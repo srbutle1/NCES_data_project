{
 "cells": [
  {
   "cell_type": "code",
   "execution_count": 6,
   "metadata": {},
   "outputs": [],
   "source": [
    "import numpy as np\n",
    "import pandas as pd\n",
    "import re\n",
    "import matplotlib.pyplot as plt\n",
    "\n",
    "from IPython.core.interactiveshell import InteractiveShell\n",
    "InteractiveShell.ast_node_interactivity = \"all\"  # shows multiple outputs\n",
    "\n",
    "import warnings\n",
    "warnings.filterwarnings('ignore')"
   ]
  },
  {
   "cell_type": "markdown",
   "metadata": {},
   "source": [
    "# Get Data"
   ]
  },
  {
   "cell_type": "code",
   "execution_count": 9,
   "metadata": {},
   "outputs": [
    {
     "name": "stdout",
     "output_type": "stream",
     "text": [
      "LICENSE                   \u001b[34mdata\u001b[m\u001b[m                      \u001b[34mprocessed\u001b[m\u001b[m\r\n",
      "README.md                 data_features-Copy1.ipynb\r\n",
      "Untitled.ipynb            data_features.ipynb\r\n"
     ]
    }
   ],
   "source": [
    "!ls "
   ]
  },
  {
   "cell_type": "code",
   "execution_count": 10,
   "metadata": {},
   "outputs": [
    {
     "name": "stdout",
     "output_type": "stream",
     "text": [
      "\u001b[31mhsls_16_student_v1_0.csv\u001b[m\u001b[m\r\n"
     ]
    }
   ],
   "source": [
    "!ls data"
   ]
  },
  {
   "cell_type": "code",
   "execution_count": 11,
   "metadata": {},
   "outputs": [],
   "source": [
    "data_path='data/hsls_16_student_v1_0.csv'\n",
    "df = pd.read_csv(data_path)"
   ]
  },
  {
   "cell_type": "markdown",
   "metadata": {},
   "source": [
    "# Inspect/Clean Data"
   ]
  },
  {
   "cell_type": "code",
   "execution_count": 13,
   "metadata": {},
   "outputs": [
    {
     "data": {
      "text/html": [
       "<div>\n",
       "<style scoped>\n",
       "    .dataframe tbody tr th:only-of-type {\n",
       "        vertical-align: middle;\n",
       "    }\n",
       "\n",
       "    .dataframe tbody tr th {\n",
       "        vertical-align: top;\n",
       "    }\n",
       "\n",
       "    .dataframe thead th {\n",
       "        text-align: right;\n",
       "    }\n",
       "</style>\n",
       "<table border=\"1\" class=\"dataframe\">\n",
       "  <thead>\n",
       "    <tr style=\"text-align: right;\">\n",
       "      <th></th>\n",
       "      <th>STU_ID</th>\n",
       "      <th>SCH_ID</th>\n",
       "      <th>X1NCESID</th>\n",
       "      <th>X2NCESID</th>\n",
       "      <th>STRAT_ID</th>\n",
       "      <th>PSU</th>\n",
       "      <th>X2UNIV1</th>\n",
       "      <th>X2UNIV2A</th>\n",
       "      <th>X2UNIV2B</th>\n",
       "      <th>X3UNIV1</th>\n",
       "      <th>...</th>\n",
       "      <th>W3W1SCITCH191</th>\n",
       "      <th>W3W1SCITCH192</th>\n",
       "      <th>W3W1SCITCH193</th>\n",
       "      <th>W3W1SCITCH194</th>\n",
       "      <th>W3W1SCITCH195</th>\n",
       "      <th>W3W1SCITCH196</th>\n",
       "      <th>W3W1SCITCH197</th>\n",
       "      <th>W3W1SCITCH198</th>\n",
       "      <th>W3W1SCITCH199</th>\n",
       "      <th>W3W1SCITCH200</th>\n",
       "    </tr>\n",
       "  </thead>\n",
       "  <tbody>\n",
       "    <tr>\n",
       "      <td>0</td>\n",
       "      <td>10001</td>\n",
       "      <td>-5</td>\n",
       "      <td>-5</td>\n",
       "      <td>-5</td>\n",
       "      <td>-5</td>\n",
       "      <td>-5</td>\n",
       "      <td>11</td>\n",
       "      <td>1</td>\n",
       "      <td>1</td>\n",
       "      <td>1111</td>\n",
       "      <td>...</td>\n",
       "      <td>0.000000</td>\n",
       "      <td>798.114506</td>\n",
       "      <td>727.021953</td>\n",
       "      <td>0.000000</td>\n",
       "      <td>1004.686071</td>\n",
       "      <td>0.000000</td>\n",
       "      <td>0.000000</td>\n",
       "      <td>935.662473</td>\n",
       "      <td>0.000000</td>\n",
       "      <td>884.466000</td>\n",
       "    </tr>\n",
       "    <tr>\n",
       "      <td>1</td>\n",
       "      <td>10002</td>\n",
       "      <td>-5</td>\n",
       "      <td>-5</td>\n",
       "      <td>-5</td>\n",
       "      <td>-5</td>\n",
       "      <td>-5</td>\n",
       "      <td>11</td>\n",
       "      <td>1</td>\n",
       "      <td>1</td>\n",
       "      <td>1111</td>\n",
       "      <td>...</td>\n",
       "      <td>387.312514</td>\n",
       "      <td>0.000000</td>\n",
       "      <td>0.000000</td>\n",
       "      <td>0.000000</td>\n",
       "      <td>0.000000</td>\n",
       "      <td>0.000000</td>\n",
       "      <td>0.000000</td>\n",
       "      <td>391.183800</td>\n",
       "      <td>495.032338</td>\n",
       "      <td>0.000000</td>\n",
       "    </tr>\n",
       "    <tr>\n",
       "      <td>2</td>\n",
       "      <td>10003</td>\n",
       "      <td>-5</td>\n",
       "      <td>-5</td>\n",
       "      <td>-5</td>\n",
       "      <td>-5</td>\n",
       "      <td>-5</td>\n",
       "      <td>11</td>\n",
       "      <td>1</td>\n",
       "      <td>1</td>\n",
       "      <td>1111</td>\n",
       "      <td>...</td>\n",
       "      <td>0.000000</td>\n",
       "      <td>0.000000</td>\n",
       "      <td>0.000000</td>\n",
       "      <td>0.000000</td>\n",
       "      <td>0.000000</td>\n",
       "      <td>0.000000</td>\n",
       "      <td>0.000000</td>\n",
       "      <td>0.000000</td>\n",
       "      <td>0.000000</td>\n",
       "      <td>0.000000</td>\n",
       "    </tr>\n",
       "    <tr>\n",
       "      <td>3</td>\n",
       "      <td>10004</td>\n",
       "      <td>-5</td>\n",
       "      <td>-5</td>\n",
       "      <td>-5</td>\n",
       "      <td>-5</td>\n",
       "      <td>-5</td>\n",
       "      <td>10</td>\n",
       "      <td>1</td>\n",
       "      <td>7</td>\n",
       "      <td>1001</td>\n",
       "      <td>...</td>\n",
       "      <td>0.000000</td>\n",
       "      <td>0.000000</td>\n",
       "      <td>0.000000</td>\n",
       "      <td>0.000000</td>\n",
       "      <td>0.000000</td>\n",
       "      <td>0.000000</td>\n",
       "      <td>0.000000</td>\n",
       "      <td>0.000000</td>\n",
       "      <td>0.000000</td>\n",
       "      <td>0.000000</td>\n",
       "    </tr>\n",
       "    <tr>\n",
       "      <td>4</td>\n",
       "      <td>10005</td>\n",
       "      <td>-5</td>\n",
       "      <td>-5</td>\n",
       "      <td>-5</td>\n",
       "      <td>-5</td>\n",
       "      <td>-5</td>\n",
       "      <td>11</td>\n",
       "      <td>1</td>\n",
       "      <td>1</td>\n",
       "      <td>1111</td>\n",
       "      <td>...</td>\n",
       "      <td>0.000000</td>\n",
       "      <td>379.461779</td>\n",
       "      <td>325.279970</td>\n",
       "      <td>369.953871</td>\n",
       "      <td>0.000000</td>\n",
       "      <td>318.240346</td>\n",
       "      <td>612.951272</td>\n",
       "      <td>0.000000</td>\n",
       "      <td>444.985831</td>\n",
       "      <td>382.924975</td>\n",
       "    </tr>\n",
       "    <tr>\n",
       "      <td>...</td>\n",
       "      <td>...</td>\n",
       "      <td>...</td>\n",
       "      <td>...</td>\n",
       "      <td>...</td>\n",
       "      <td>...</td>\n",
       "      <td>...</td>\n",
       "      <td>...</td>\n",
       "      <td>...</td>\n",
       "      <td>...</td>\n",
       "      <td>...</td>\n",
       "      <td>...</td>\n",
       "      <td>...</td>\n",
       "      <td>...</td>\n",
       "      <td>...</td>\n",
       "      <td>...</td>\n",
       "      <td>...</td>\n",
       "      <td>...</td>\n",
       "      <td>...</td>\n",
       "      <td>...</td>\n",
       "      <td>...</td>\n",
       "      <td>...</td>\n",
       "    </tr>\n",
       "    <tr>\n",
       "      <td>23498</td>\n",
       "      <td>35202</td>\n",
       "      <td>-5</td>\n",
       "      <td>-5</td>\n",
       "      <td>-5</td>\n",
       "      <td>-5</td>\n",
       "      <td>-5</td>\n",
       "      <td>11</td>\n",
       "      <td>1</td>\n",
       "      <td>6</td>\n",
       "      <td>1111</td>\n",
       "      <td>...</td>\n",
       "      <td>0.000000</td>\n",
       "      <td>387.594547</td>\n",
       "      <td>0.000000</td>\n",
       "      <td>454.760907</td>\n",
       "      <td>256.529583</td>\n",
       "      <td>0.000000</td>\n",
       "      <td>271.003180</td>\n",
       "      <td>442.435571</td>\n",
       "      <td>0.000000</td>\n",
       "      <td>413.111710</td>\n",
       "    </tr>\n",
       "    <tr>\n",
       "      <td>23499</td>\n",
       "      <td>35203</td>\n",
       "      <td>-5</td>\n",
       "      <td>-5</td>\n",
       "      <td>-5</td>\n",
       "      <td>-5</td>\n",
       "      <td>-5</td>\n",
       "      <td>11</td>\n",
       "      <td>1</td>\n",
       "      <td>1</td>\n",
       "      <td>1111</td>\n",
       "      <td>...</td>\n",
       "      <td>0.000000</td>\n",
       "      <td>0.000000</td>\n",
       "      <td>10.641808</td>\n",
       "      <td>0.000000</td>\n",
       "      <td>0.000000</td>\n",
       "      <td>0.000000</td>\n",
       "      <td>44.764566</td>\n",
       "      <td>0.000000</td>\n",
       "      <td>0.000000</td>\n",
       "      <td>42.746630</td>\n",
       "    </tr>\n",
       "    <tr>\n",
       "      <td>23500</td>\n",
       "      <td>35204</td>\n",
       "      <td>-5</td>\n",
       "      <td>-5</td>\n",
       "      <td>-5</td>\n",
       "      <td>-5</td>\n",
       "      <td>-5</td>\n",
       "      <td>11</td>\n",
       "      <td>1</td>\n",
       "      <td>1</td>\n",
       "      <td>1111</td>\n",
       "      <td>...</td>\n",
       "      <td>297.979615</td>\n",
       "      <td>276.424086</td>\n",
       "      <td>0.000000</td>\n",
       "      <td>194.234727</td>\n",
       "      <td>0.000000</td>\n",
       "      <td>0.000000</td>\n",
       "      <td>581.039117</td>\n",
       "      <td>0.000000</td>\n",
       "      <td>0.000000</td>\n",
       "      <td>0.000000</td>\n",
       "    </tr>\n",
       "    <tr>\n",
       "      <td>23501</td>\n",
       "      <td>35205</td>\n",
       "      <td>-5</td>\n",
       "      <td>-5</td>\n",
       "      <td>-5</td>\n",
       "      <td>-5</td>\n",
       "      <td>-5</td>\n",
       "      <td>11</td>\n",
       "      <td>1</td>\n",
       "      <td>1</td>\n",
       "      <td>1111</td>\n",
       "      <td>...</td>\n",
       "      <td>0.000000</td>\n",
       "      <td>0.000000</td>\n",
       "      <td>0.000000</td>\n",
       "      <td>0.000000</td>\n",
       "      <td>0.000000</td>\n",
       "      <td>0.000000</td>\n",
       "      <td>0.000000</td>\n",
       "      <td>0.000000</td>\n",
       "      <td>0.000000</td>\n",
       "      <td>0.000000</td>\n",
       "    </tr>\n",
       "    <tr>\n",
       "      <td>23502</td>\n",
       "      <td>35206</td>\n",
       "      <td>-5</td>\n",
       "      <td>-5</td>\n",
       "      <td>-5</td>\n",
       "      <td>-5</td>\n",
       "      <td>-5</td>\n",
       "      <td>11</td>\n",
       "      <td>1</td>\n",
       "      <td>1</td>\n",
       "      <td>1111</td>\n",
       "      <td>...</td>\n",
       "      <td>0.000000</td>\n",
       "      <td>285.326094</td>\n",
       "      <td>324.337312</td>\n",
       "      <td>281.655387</td>\n",
       "      <td>241.562990</td>\n",
       "      <td>312.419656</td>\n",
       "      <td>629.737977</td>\n",
       "      <td>0.000000</td>\n",
       "      <td>0.000000</td>\n",
       "      <td>0.000000</td>\n",
       "    </tr>\n",
       "  </tbody>\n",
       "</table>\n",
       "<p>23503 rows × 8509 columns</p>\n",
       "</div>"
      ],
      "text/plain": [
       "       STU_ID  SCH_ID  X1NCESID  X2NCESID  STRAT_ID  PSU  X2UNIV1  X2UNIV2A  \\\n",
       "0       10001      -5        -5        -5        -5   -5       11         1   \n",
       "1       10002      -5        -5        -5        -5   -5       11         1   \n",
       "2       10003      -5        -5        -5        -5   -5       11         1   \n",
       "3       10004      -5        -5        -5        -5   -5       10         1   \n",
       "4       10005      -5        -5        -5        -5   -5       11         1   \n",
       "...       ...     ...       ...       ...       ...  ...      ...       ...   \n",
       "23498   35202      -5        -5        -5        -5   -5       11         1   \n",
       "23499   35203      -5        -5        -5        -5   -5       11         1   \n",
       "23500   35204      -5        -5        -5        -5   -5       11         1   \n",
       "23501   35205      -5        -5        -5        -5   -5       11         1   \n",
       "23502   35206      -5        -5        -5        -5   -5       11         1   \n",
       "\n",
       "       X2UNIV2B  X3UNIV1  ...  W3W1SCITCH191  W3W1SCITCH192  W3W1SCITCH193  \\\n",
       "0             1     1111  ...       0.000000     798.114506     727.021953   \n",
       "1             1     1111  ...     387.312514       0.000000       0.000000   \n",
       "2             1     1111  ...       0.000000       0.000000       0.000000   \n",
       "3             7     1001  ...       0.000000       0.000000       0.000000   \n",
       "4             1     1111  ...       0.000000     379.461779     325.279970   \n",
       "...         ...      ...  ...            ...            ...            ...   \n",
       "23498         6     1111  ...       0.000000     387.594547       0.000000   \n",
       "23499         1     1111  ...       0.000000       0.000000      10.641808   \n",
       "23500         1     1111  ...     297.979615     276.424086       0.000000   \n",
       "23501         1     1111  ...       0.000000       0.000000       0.000000   \n",
       "23502         1     1111  ...       0.000000     285.326094     324.337312   \n",
       "\n",
       "       W3W1SCITCH194  W3W1SCITCH195  W3W1SCITCH196  W3W1SCITCH197  \\\n",
       "0           0.000000    1004.686071       0.000000       0.000000   \n",
       "1           0.000000       0.000000       0.000000       0.000000   \n",
       "2           0.000000       0.000000       0.000000       0.000000   \n",
       "3           0.000000       0.000000       0.000000       0.000000   \n",
       "4         369.953871       0.000000     318.240346     612.951272   \n",
       "...              ...            ...            ...            ...   \n",
       "23498     454.760907     256.529583       0.000000     271.003180   \n",
       "23499       0.000000       0.000000       0.000000      44.764566   \n",
       "23500     194.234727       0.000000       0.000000     581.039117   \n",
       "23501       0.000000       0.000000       0.000000       0.000000   \n",
       "23502     281.655387     241.562990     312.419656     629.737977   \n",
       "\n",
       "       W3W1SCITCH198  W3W1SCITCH199  W3W1SCITCH200  \n",
       "0         935.662473       0.000000     884.466000  \n",
       "1         391.183800     495.032338       0.000000  \n",
       "2           0.000000       0.000000       0.000000  \n",
       "3           0.000000       0.000000       0.000000  \n",
       "4           0.000000     444.985831     382.924975  \n",
       "...              ...            ...            ...  \n",
       "23498     442.435571       0.000000     413.111710  \n",
       "23499       0.000000       0.000000      42.746630  \n",
       "23500       0.000000       0.000000       0.000000  \n",
       "23501       0.000000       0.000000       0.000000  \n",
       "23502       0.000000       0.000000       0.000000  \n",
       "\n",
       "[23503 rows x 8509 columns]"
      ]
     },
     "execution_count": 13,
     "metadata": {},
     "output_type": "execute_result"
    }
   ],
   "source": [
    "df"
   ]
  },
  {
   "cell_type": "code",
   "execution_count": 96,
   "metadata": {},
   "outputs": [
    {
     "data": {
      "text/plain": [
       "887"
      ]
     },
     "execution_count": 96,
     "metadata": {},
     "output_type": "execute_result"
    },
    {
     "data": {
      "text/plain": [
       "(23503, 7622)"
      ]
     },
     "execution_count": 96,
     "metadata": {},
     "output_type": "execute_result"
    }
   ],
   "source": [
    "# from the documentation, values of -5 mean the data is \n",
    "# restricted use, so we will delete these features\n",
    "\n",
    "restricted_cols = [col for col in df.columns if df[col][0]==-5]\n",
    "len(restricted_cols)\n",
    "df_un = df.drop(restricted_cols, axis=1)\n",
    "df_un.shape"
   ]
  },
  {
   "cell_type": "code",
   "execution_count": 44,
   "metadata": {},
   "outputs": [
    {
     "data": {
      "text/plain": [
       "False"
      ]
     },
     "execution_count": 44,
     "metadata": {},
     "output_type": "execute_result"
    }
   ],
   "source": [
    "# check for missing values\n",
    "\n",
    "df_un.isnull().values.any()"
   ]
  },
  {
   "cell_type": "markdown",
   "metadata": {},
   "source": [
    "# Initial Feature Selection"
   ]
  },
  {
   "cell_type": "markdown",
   "metadata": {},
   "source": [
    "### Choose subset of features from among the >7000 available"
   ]
  },
  {
   "cell_type": "code",
   "execution_count": 54,
   "metadata": {},
   "outputs": [
    {
     "name": "stdout",
     "output_type": "stream",
     "text": [
      "\u001b[31mCodebook.txt\u001b[m\u001b[m                           HSLS09_VariableList_BY-F2_revised.xlsx\r\n"
     ]
    }
   ],
   "source": [
    "!ls data_docs"
   ]
  },
  {
   "cell_type": "code",
   "execution_count": 55,
   "metadata": {},
   "outputs": [],
   "source": [
    "# get variable descriptions from excel file\n",
    "\n",
    "vd_path = './data_docs/HSLS09_VariableList_BY-F2_revised.xlsx'\n",
    "df_var_desc = pd.read_excel(vd_path, sheet_name='All Student-Level Variables', header=0,\n",
    "                           names=['Variable_Name','Variable_Label'],index_col=0,\n",
    "                            usecols=[0,1]) "
   ]
  },
  {
   "cell_type": "code",
   "execution_count": 77,
   "metadata": {},
   "outputs": [],
   "source": [
    "cols_list = df_un.columns\n",
    "features_list = []"
   ]
  },
  {
   "cell_type": "code",
   "execution_count": 78,
   "metadata": {},
   "outputs": [
    {
     "data": {
      "text/html": [
       "<style  type=\"text/css\" >\n",
       "    #T_d5c8c278_a5e4_11ea_a43c_fe00dd40d201row0_col0 {\n",
       "            text-align:  left;\n",
       "        }    #T_d5c8c278_a5e4_11ea_a43c_fe00dd40d201row1_col0 {\n",
       "            text-align:  left;\n",
       "        }    #T_d5c8c278_a5e4_11ea_a43c_fe00dd40d201row2_col0 {\n",
       "            text-align:  left;\n",
       "        }    #T_d5c8c278_a5e4_11ea_a43c_fe00dd40d201row3_col0 {\n",
       "            text-align:  left;\n",
       "        }    #T_d5c8c278_a5e4_11ea_a43c_fe00dd40d201row4_col0 {\n",
       "            text-align:  left;\n",
       "        }    #T_d5c8c278_a5e4_11ea_a43c_fe00dd40d201row5_col0 {\n",
       "            text-align:  left;\n",
       "        }    #T_d5c8c278_a5e4_11ea_a43c_fe00dd40d201row6_col0 {\n",
       "            text-align:  left;\n",
       "        }    #T_d5c8c278_a5e4_11ea_a43c_fe00dd40d201row7_col0 {\n",
       "            text-align:  left;\n",
       "        }    #T_d5c8c278_a5e4_11ea_a43c_fe00dd40d201row8_col0 {\n",
       "            text-align:  left;\n",
       "        }</style><table id=\"T_d5c8c278_a5e4_11ea_a43c_fe00dd40d201\" ><thead>    <tr>        <th class=\"blank level0\" ></th>        <th class=\"col_heading level0 col0\" >Variable_Label</th>    </tr>    <tr>        <th class=\"index_name level0\" >Variable_Name</th>        <th class=\"blank\" ></th>    </tr></thead><tbody>\n",
       "                <tr>\n",
       "                        <th id=\"T_d5c8c278_a5e4_11ea_a43c_fe00dd40d201level0_row0\" class=\"row_heading level0 row0\" >S1MTCHVALUES</th>\n",
       "                        <td id=\"T_d5c8c278_a5e4_11ea_a43c_fe00dd40d201row0_col0\" class=\"data row0 col0\" >S1 C11A 9th grader's fall 2009 math teacher values/listens to students' ideas</td>\n",
       "            </tr>\n",
       "            <tr>\n",
       "                        <th id=\"T_d5c8c278_a5e4_11ea_a43c_fe00dd40d201level0_row1\" class=\"row_heading level0 row1\" >S1MTCHRESPCT</th>\n",
       "                        <td id=\"T_d5c8c278_a5e4_11ea_a43c_fe00dd40d201row1_col0\" class=\"data row1 col0\" >S1 C11B 9th grader's fall 2009 math teacher treats students with respect</td>\n",
       "            </tr>\n",
       "            <tr>\n",
       "                        <th id=\"T_d5c8c278_a5e4_11ea_a43c_fe00dd40d201level0_row2\" class=\"row_heading level0 row2\" >S1MTCHFAIR</th>\n",
       "                        <td id=\"T_d5c8c278_a5e4_11ea_a43c_fe00dd40d201row2_col0\" class=\"data row2 col0\" >S1 C11C 9th grader's fall 2009 math teacher treats every student fairly</td>\n",
       "            </tr>\n",
       "            <tr>\n",
       "                        <th id=\"T_d5c8c278_a5e4_11ea_a43c_fe00dd40d201level0_row3\" class=\"row_heading level0 row3\" >S1MTCHCONF</th>\n",
       "                        <td id=\"T_d5c8c278_a5e4_11ea_a43c_fe00dd40d201row3_col0\" class=\"data row3 col0\" >S1 C11D 9th grader's fall 2009 math teacher thinks all student can be successful</td>\n",
       "            </tr>\n",
       "            <tr>\n",
       "                        <th id=\"T_d5c8c278_a5e4_11ea_a43c_fe00dd40d201level0_row4\" class=\"row_heading level0 row4\" >S1MTCHMISTKE</th>\n",
       "                        <td id=\"T_d5c8c278_a5e4_11ea_a43c_fe00dd40d201row4_col0\" class=\"data row4 col0\" >S1 C11E 9th grader's fall 2009 math teacher thinks mistakes OK if students learn</td>\n",
       "            </tr>\n",
       "            <tr>\n",
       "                        <th id=\"T_d5c8c278_a5e4_11ea_a43c_fe00dd40d201level0_row5\" class=\"row_heading level0 row5\" >S1MTCHTREAT</th>\n",
       "                        <td id=\"T_d5c8c278_a5e4_11ea_a43c_fe00dd40d201row5_col0\" class=\"data row5 col0\" >S1 C11F 9th grader's fall 2009 math teacher treats some kids better than others</td>\n",
       "            </tr>\n",
       "            <tr>\n",
       "                        <th id=\"T_d5c8c278_a5e4_11ea_a43c_fe00dd40d201level0_row6\" class=\"row_heading level0 row6\" >S1MTCHINTRST</th>\n",
       "                        <td id=\"T_d5c8c278_a5e4_11ea_a43c_fe00dd40d201row6_col0\" class=\"data row6 col0\" >S1 C11G 9th grader's fall 2009 math teacher makes math interesting</td>\n",
       "            </tr>\n",
       "            <tr>\n",
       "                        <th id=\"T_d5c8c278_a5e4_11ea_a43c_fe00dd40d201level0_row7\" class=\"row_heading level0 row7\" >S1MTCHMFDIFF</th>\n",
       "                        <td id=\"T_d5c8c278_a5e4_11ea_a43c_fe00dd40d201row7_col0\" class=\"data row7 col0\" >S1 C11H 9th grader's fall 2009 math teacher treats males/females differently</td>\n",
       "            </tr>\n",
       "            <tr>\n",
       "                        <th id=\"T_d5c8c278_a5e4_11ea_a43c_fe00dd40d201level0_row8\" class=\"row_heading level0 row8\" >S1MTCHEASY</th>\n",
       "                        <td id=\"T_d5c8c278_a5e4_11ea_a43c_fe00dd40d201row8_col0\" class=\"data row8 col0\" >S1 C11I 9th grader's fall 2009 math teacher makes math easy to understand</td>\n",
       "            </tr>\n",
       "    </tbody></table>"
      ],
      "text/plain": [
       "<pandas.io.formats.style.Styler at 0x13194ab90>"
      ]
     },
     "execution_count": 78,
     "metadata": {},
     "output_type": "execute_result"
    }
   ],
   "source": [
    "# students' assessment of math teachers\n",
    "\n",
    "rex = re.compile('S1MTCH')\n",
    "math_teach = [col for col in cols_list if re.match(rex, col)]\n",
    "features_list.extend(math_teach)\n",
    "pd.options.display.max_colwidth = 100\n",
    "df_var_desc.loc[math_teach].style.set_properties(**{'text-align': 'left'})"
   ]
  },
  {
   "cell_type": "code",
   "execution_count": 79,
   "metadata": {},
   "outputs": [
    {
     "data": {
      "text/html": [
       "<style  type=\"text/css\" >\n",
       "    #T_eb5bb85c_a5e4_11ea_a43c_fe00dd40d201row0_col0 {\n",
       "            text-align:  left;\n",
       "        }    #T_eb5bb85c_a5e4_11ea_a43c_fe00dd40d201row1_col0 {\n",
       "            text-align:  left;\n",
       "        }    #T_eb5bb85c_a5e4_11ea_a43c_fe00dd40d201row2_col0 {\n",
       "            text-align:  left;\n",
       "        }    #T_eb5bb85c_a5e4_11ea_a43c_fe00dd40d201row3_col0 {\n",
       "            text-align:  left;\n",
       "        }    #T_eb5bb85c_a5e4_11ea_a43c_fe00dd40d201row4_col0 {\n",
       "            text-align:  left;\n",
       "        }    #T_eb5bb85c_a5e4_11ea_a43c_fe00dd40d201row5_col0 {\n",
       "            text-align:  left;\n",
       "        }    #T_eb5bb85c_a5e4_11ea_a43c_fe00dd40d201row6_col0 {\n",
       "            text-align:  left;\n",
       "        }    #T_eb5bb85c_a5e4_11ea_a43c_fe00dd40d201row7_col0 {\n",
       "            text-align:  left;\n",
       "        }    #T_eb5bb85c_a5e4_11ea_a43c_fe00dd40d201row8_col0 {\n",
       "            text-align:  left;\n",
       "        }</style><table id=\"T_eb5bb85c_a5e4_11ea_a43c_fe00dd40d201\" ><thead>    <tr>        <th class=\"blank level0\" ></th>        <th class=\"col_heading level0 col0\" >Variable_Label</th>    </tr>    <tr>        <th class=\"index_name level0\" >Variable_Name</th>        <th class=\"blank\" ></th>    </tr></thead><tbody>\n",
       "                <tr>\n",
       "                        <th id=\"T_eb5bb85c_a5e4_11ea_a43c_fe00dd40d201level0_row0\" class=\"row_heading level0 row0\" >S1STCHVALUES</th>\n",
       "                        <td id=\"T_eb5bb85c_a5e4_11ea_a43c_fe00dd40d201row0_col0\" class=\"data row0 col0\" >S1 D11A 9th grader's fall 2009 science teacher values/listens to students' ideas</td>\n",
       "            </tr>\n",
       "            <tr>\n",
       "                        <th id=\"T_eb5bb85c_a5e4_11ea_a43c_fe00dd40d201level0_row1\" class=\"row_heading level0 row1\" >S1STCHRESPCT</th>\n",
       "                        <td id=\"T_eb5bb85c_a5e4_11ea_a43c_fe00dd40d201row1_col0\" class=\"data row1 col0\" >S1 D11B 9th grader's fall 2009 science teacher treats students with respect</td>\n",
       "            </tr>\n",
       "            <tr>\n",
       "                        <th id=\"T_eb5bb85c_a5e4_11ea_a43c_fe00dd40d201level0_row2\" class=\"row_heading level0 row2\" >S1STCHFAIR</th>\n",
       "                        <td id=\"T_eb5bb85c_a5e4_11ea_a43c_fe00dd40d201row2_col0\" class=\"data row2 col0\" >S1 D11C 9th grader's fall 2009 science teacher treats every student fairly</td>\n",
       "            </tr>\n",
       "            <tr>\n",
       "                        <th id=\"T_eb5bb85c_a5e4_11ea_a43c_fe00dd40d201level0_row3\" class=\"row_heading level0 row3\" >S1STCHCONF</th>\n",
       "                        <td id=\"T_eb5bb85c_a5e4_11ea_a43c_fe00dd40d201row3_col0\" class=\"data row3 col0\" >S1 D11D 9th grader's fall 09 science teacher think all student can be successful</td>\n",
       "            </tr>\n",
       "            <tr>\n",
       "                        <th id=\"T_eb5bb85c_a5e4_11ea_a43c_fe00dd40d201level0_row4\" class=\"row_heading level0 row4\" >S1STCHMISTKE</th>\n",
       "                        <td id=\"T_eb5bb85c_a5e4_11ea_a43c_fe00dd40d201row4_col0\" class=\"data row4 col0\" >S1 D11E 9th grader's fall 09 science teacher think mistakes OK if students learn</td>\n",
       "            </tr>\n",
       "            <tr>\n",
       "                        <th id=\"T_eb5bb85c_a5e4_11ea_a43c_fe00dd40d201level0_row5\" class=\"row_heading level0 row5\" >S1STCHTREAT</th>\n",
       "                        <td id=\"T_eb5bb85c_a5e4_11ea_a43c_fe00dd40d201row5_col0\" class=\"data row5 col0\" >S1 D11F 9th grader's fall 09 science teacher treats some kids better than others</td>\n",
       "            </tr>\n",
       "            <tr>\n",
       "                        <th id=\"T_eb5bb85c_a5e4_11ea_a43c_fe00dd40d201level0_row6\" class=\"row_heading level0 row6\" >S1STCHINTRST</th>\n",
       "                        <td id=\"T_eb5bb85c_a5e4_11ea_a43c_fe00dd40d201row6_col0\" class=\"data row6 col0\" >S1 D11G 9th grader's fall 2009 science teacher makes science interesting</td>\n",
       "            </tr>\n",
       "            <tr>\n",
       "                        <th id=\"T_eb5bb85c_a5e4_11ea_a43c_fe00dd40d201level0_row7\" class=\"row_heading level0 row7\" >S1STCHMFDIFF</th>\n",
       "                        <td id=\"T_eb5bb85c_a5e4_11ea_a43c_fe00dd40d201row7_col0\" class=\"data row7 col0\" >S1 D11H 9th grader's fall 2009 science teacher treats males/females differently</td>\n",
       "            </tr>\n",
       "            <tr>\n",
       "                        <th id=\"T_eb5bb85c_a5e4_11ea_a43c_fe00dd40d201level0_row8\" class=\"row_heading level0 row8\" >S1STCHEASY</th>\n",
       "                        <td id=\"T_eb5bb85c_a5e4_11ea_a43c_fe00dd40d201row8_col0\" class=\"data row8 col0\" >S1 D11I 9th grader's fall 2009 science teacher makes science easy to understand</td>\n",
       "            </tr>\n",
       "    </tbody></table>"
      ],
      "text/plain": [
       "<pandas.io.formats.style.Styler at 0x13304d710>"
      ]
     },
     "execution_count": 79,
     "metadata": {},
     "output_type": "execute_result"
    }
   ],
   "source": [
    "# students' assessment of science teachers\n",
    "\n",
    "rex = re.compile('S1STCH')\n",
    "sci_teach = [col for col in cols_list if re.match(rex, col)]\n",
    "features_list.extend(sci_teach)\n",
    "#df_var_desc.loc[sci_teach].style.set_properties(**{'text-align': 'left'})"
   ]
  },
  {
   "cell_type": "code",
   "execution_count": null,
   "metadata": {},
   "outputs": [],
   "source": []
  },
  {
   "cell_type": "code",
   "execution_count": 97,
   "metadata": {},
   "outputs": [],
   "source": [
    "# variables describing students' self assessment of math ability\n",
    "\n",
    "ind_self_beg = df_un.columns.get_loc('S1MPERSON1')\n",
    "ind_self_end = df_un.columns.get_loc('S1MASSEXCL')\n",
    "\n",
    "math_self = df_un.columns[ind_self_beg:ind_self_end+1].to_list()\n",
    "features_list.extend(math_self)\n",
    "#df_var_desc.loc[math_self].style.set_properties(**{'text-align': 'left'})"
   ]
  },
  {
   "cell_type": "code",
   "execution_count": 98,
   "metadata": {},
   "outputs": [],
   "source": [
    "# variables describing students' self assessment of science ability\n",
    "\n",
    "ind_self_beg = df_un.columns.get_loc('S1SPERSON1')\n",
    "ind_self_end = df_un.columns.get_loc('S1SASSEXCL')\n",
    "\n",
    "sci_self = df_un.columns[ind_self_beg:ind_self_end+1].to_list()\n",
    "features_list.extend(sci_self)\n",
    "#df_var_desc.loc[sci_self].style.set_properties(**{'text-align': 'left'})"
   ]
  },
  {
   "cell_type": "code",
   "execution_count": 87,
   "metadata": {},
   "outputs": [
    {
     "data": {
      "text/html": [
       "<style  type=\"text/css\" >\n",
       "    #T_6ad49e04_a5e6_11ea_a43c_fe00dd40d201row0_col0 {\n",
       "            text-align:  left;\n",
       "        }    #T_6ad49e04_a5e6_11ea_a43c_fe00dd40d201row1_col0 {\n",
       "            text-align:  left;\n",
       "        }</style><table id=\"T_6ad49e04_a5e6_11ea_a43c_fe00dd40d201\" ><thead>    <tr>        <th class=\"blank level0\" ></th>        <th class=\"col_heading level0 col0\" >Variable_Label</th>    </tr>    <tr>        <th class=\"index_name level0\" >Variable_Name</th>        <th class=\"blank\" ></th>    </tr></thead><tbody>\n",
       "                <tr>\n",
       "                        <th id=\"T_6ad49e04_a5e6_11ea_a43c_fe00dd40d201level0_row0\" class=\"row_heading level0 row0\" >S3APMATH</th>\n",
       "                        <td id=\"T_6ad49e04_a5e6_11ea_a43c_fe00dd40d201row0_col0\" class=\"data row0 col0\" >S3 A14A Has taken AP math course(s)</td>\n",
       "            </tr>\n",
       "            <tr>\n",
       "                        <th id=\"T_6ad49e04_a5e6_11ea_a43c_fe00dd40d201level0_row1\" class=\"row_heading level0 row1\" >S3APSCIENCE</th>\n",
       "                        <td id=\"T_6ad49e04_a5e6_11ea_a43c_fe00dd40d201row1_col0\" class=\"data row1 col0\" >S3 A14B Has taken AP science course(s)</td>\n",
       "            </tr>\n",
       "    </tbody></table>"
      ],
      "text/plain": [
       "<pandas.io.formats.style.Styler at 0x13194a450>"
      ]
     },
     "execution_count": 87,
     "metadata": {},
     "output_type": "execute_result"
    }
   ],
   "source": [
    "# variables describing whether students took AP math/science\n",
    "\n",
    "AP_ms = ['S3APMATH','S3APSCIENCE']\n",
    "features_list.extend(AP_ms)\n",
    "df_var_desc.loc[AP_ms].style.set_properties(**{'text-align': 'left'})"
   ]
  },
  {
   "cell_type": "code",
   "execution_count": 90,
   "metadata": {},
   "outputs": [
    {
     "data": {
      "text/html": [
       "<style  type=\"text/css\" >\n",
       "    #T_b74a0374_a676_11ea_a43c_fe00dd40d201row0_col0 {\n",
       "            text-align:  left;\n",
       "        }</style><table id=\"T_b74a0374_a676_11ea_a43c_fe00dd40d201\" ><thead>    <tr>        <th class=\"blank level0\" ></th>        <th class=\"col_heading level0 col0\" >Variable_Label</th>    </tr>    <tr>        <th class=\"index_name level0\" >Variable_Name</th>        <th class=\"blank\" ></th>    </tr></thead><tbody>\n",
       "                <tr>\n",
       "                        <th id=\"T_b74a0374_a676_11ea_a43c_fe00dd40d201level0_row0\" class=\"row_heading level0 row0\" >X1RACE</th>\n",
       "                        <td id=\"T_b74a0374_a676_11ea_a43c_fe00dd40d201row0_col0\" class=\"data row0 col0\" >X1 Student's race/ethnicity-composite</td>\n",
       "            </tr>\n",
       "    </tbody></table>"
      ],
      "text/plain": [
       "<pandas.io.formats.style.Styler at 0x12a6c92d0>"
      ]
     },
     "execution_count": 90,
     "metadata": {},
     "output_type": "execute_result"
    }
   ],
   "source": [
    "# variables describing race\n",
    "\n",
    "race = ['X1RACE']\n",
    "features_list.extend(race)\n",
    "df_var_desc.loc[race].style.set_properties(**{'text-align': 'left'})"
   ]
  },
  {
   "cell_type": "code",
   "execution_count": 91,
   "metadata": {},
   "outputs": [
    {
     "data": {
      "text/html": [
       "<style  type=\"text/css\" >\n",
       "    #T_ba4f8fd0_a676_11ea_a43c_fe00dd40d201row0_col0 {\n",
       "            text-align:  left;\n",
       "        }</style><table id=\"T_ba4f8fd0_a676_11ea_a43c_fe00dd40d201\" ><thead>    <tr>        <th class=\"blank level0\" ></th>        <th class=\"col_heading level0 col0\" >Variable_Label</th>    </tr>    <tr>        <th class=\"index_name level0\" >Variable_Name</th>        <th class=\"blank\" ></th>    </tr></thead><tbody>\n",
       "                <tr>\n",
       "                        <th id=\"T_ba4f8fd0_a676_11ea_a43c_fe00dd40d201level0_row0\" class=\"row_heading level0 row0\" >X1IEPFLAG</th>\n",
       "                        <td id=\"T_ba4f8fd0_a676_11ea_a43c_fe00dd40d201row0_col0\" class=\"data row0 col0\" >X1 Individualized Education Plan</td>\n",
       "            </tr>\n",
       "    </tbody></table>"
      ],
      "text/plain": [
       "<pandas.io.formats.style.Styler at 0x133048d10>"
      ]
     },
     "execution_count": 91,
     "metadata": {},
     "output_type": "execute_result"
    }
   ],
   "source": [
    "# variables describing IEP\n",
    "\n",
    "iep = ['X1IEPFLAG']\n",
    "features_list.extend(iep)\n",
    "df_var_desc.loc[iep].style.set_properties(**{'text-align': 'left'})"
   ]
  },
  {
   "cell_type": "code",
   "execution_count": 92,
   "metadata": {},
   "outputs": [
    {
     "data": {
      "text/html": [
       "<style  type=\"text/css\" >\n",
       "    #T_bc0b64a2_a676_11ea_a43c_fe00dd40d201row0_col0 {\n",
       "            text-align:  left;\n",
       "        }</style><table id=\"T_bc0b64a2_a676_11ea_a43c_fe00dd40d201\" ><thead>    <tr>        <th class=\"blank level0\" ></th>        <th class=\"col_heading level0 col0\" >Variable_Label</th>    </tr>    <tr>        <th class=\"index_name level0\" >Variable_Name</th>        <th class=\"blank\" ></th>    </tr></thead><tbody>\n",
       "                <tr>\n",
       "                        <th id=\"T_bc0b64a2_a676_11ea_a43c_fe00dd40d201level0_row0\" class=\"row_heading level0 row0\" >X3HSCOMPSTAT</th>\n",
       "                        <td id=\"T_bc0b64a2_a676_11ea_a43c_fe00dd40d201row0_col0\" class=\"data row0 col0\" >X3 High school completion status (transcript and GED source updated)</td>\n",
       "            </tr>\n",
       "    </tbody></table>"
      ],
      "text/plain": [
       "<pandas.io.formats.style.Styler at 0x133054750>"
      ]
     },
     "execution_count": 92,
     "metadata": {},
     "output_type": "execute_result"
    }
   ],
   "source": [
    "# variables describing graduation/GED/dropout\n",
    "\n",
    "grad = ['X3HSCOMPSTAT']\n",
    "features_list.extend(grad)\n",
    "df_var_desc.loc[grad].style.set_properties(**{'text-align': 'left'})"
   ]
  },
  {
   "cell_type": "code",
   "execution_count": 93,
   "metadata": {},
   "outputs": [
    {
     "data": {
      "text/html": [
       "<style  type=\"text/css\" >\n",
       "    #T_bfd61f3c_a676_11ea_a43c_fe00dd40d201row0_col0 {\n",
       "            text-align:  left;\n",
       "        }    #T_bfd61f3c_a676_11ea_a43c_fe00dd40d201row1_col0 {\n",
       "            text-align:  left;\n",
       "        }</style><table id=\"T_bfd61f3c_a676_11ea_a43c_fe00dd40d201\" ><thead>    <tr>        <th class=\"blank level0\" ></th>        <th class=\"col_heading level0 col0\" >Variable_Label</th>    </tr>    <tr>        <th class=\"index_name level0\" >Variable_Name</th>        <th class=\"blank\" ></th>    </tr></thead><tbody>\n",
       "                <tr>\n",
       "                        <th id=\"T_bfd61f3c_a676_11ea_a43c_fe00dd40d201level0_row0\" class=\"row_heading level0 row0\" >X1PAR1EDU</th>\n",
       "                        <td id=\"T_bfd61f3c_a676_11ea_a43c_fe00dd40d201row0_col0\" class=\"data row0 col0\" >X1 Parent 1: highest level of education</td>\n",
       "            </tr>\n",
       "            <tr>\n",
       "                        <th id=\"T_bfd61f3c_a676_11ea_a43c_fe00dd40d201level0_row1\" class=\"row_heading level0 row1\" >X1PAR2EDU</th>\n",
       "                        <td id=\"T_bfd61f3c_a676_11ea_a43c_fe00dd40d201row1_col0\" class=\"data row1 col0\" >X1 Parent 2: highest level of education</td>\n",
       "            </tr>\n",
       "    </tbody></table>"
      ],
      "text/plain": [
       "<pandas.io.formats.style.Styler at 0x12a6b1710>"
      ]
     },
     "execution_count": 93,
     "metadata": {},
     "output_type": "execute_result"
    }
   ],
   "source": [
    "# variables describing parents education\n",
    "\n",
    "pared = ['X1PAR1EDU','X1PAR2EDU']\n",
    "features_list.extend(pared)\n",
    "df_var_desc.loc[pared].style.set_properties(**{'text-align': 'left'})"
   ]
  },
  {
   "cell_type": "code",
   "execution_count": 99,
   "metadata": {},
   "outputs": [
    {
     "data": {
      "text/html": [
       "<div>\n",
       "<style scoped>\n",
       "    .dataframe tbody tr th:only-of-type {\n",
       "        vertical-align: middle;\n",
       "    }\n",
       "\n",
       "    .dataframe tbody tr th {\n",
       "        vertical-align: top;\n",
       "    }\n",
       "\n",
       "    .dataframe thead th {\n",
       "        text-align: right;\n",
       "    }\n",
       "</style>\n",
       "<table border=\"1\" class=\"dataframe\">\n",
       "  <thead>\n",
       "    <tr style=\"text-align: right;\">\n",
       "      <th></th>\n",
       "      <th>S1MTCHVALUES</th>\n",
       "      <th>S1MTCHRESPCT</th>\n",
       "      <th>S1MTCHFAIR</th>\n",
       "      <th>S1MTCHCONF</th>\n",
       "      <th>S1MTCHMISTKE</th>\n",
       "      <th>S1MTCHTREAT</th>\n",
       "      <th>S1MTCHINTRST</th>\n",
       "      <th>S1MTCHMFDIFF</th>\n",
       "      <th>S1MTCHEASY</th>\n",
       "      <th>S1STCHVALUES</th>\n",
       "      <th>...</th>\n",
       "      <th>S1SENJOYING</th>\n",
       "      <th>S1SWASTE</th>\n",
       "      <th>S1SBORING</th>\n",
       "      <th>S1SUSELIFE</th>\n",
       "      <th>S1SUSECLG</th>\n",
       "      <th>S1SUSEJOB</th>\n",
       "      <th>S1STESTS</th>\n",
       "      <th>S1STEXTBOOK</th>\n",
       "      <th>S1SSKILLS</th>\n",
       "      <th>S1SASSEXCL</th>\n",
       "    </tr>\n",
       "  </thead>\n",
       "  <tbody>\n",
       "    <tr>\n",
       "      <td>0</td>\n",
       "      <td>1</td>\n",
       "      <td>1</td>\n",
       "      <td>1</td>\n",
       "      <td>1</td>\n",
       "      <td>1</td>\n",
       "      <td>3</td>\n",
       "      <td>2</td>\n",
       "      <td>3</td>\n",
       "      <td>1</td>\n",
       "      <td>1</td>\n",
       "      <td>...</td>\n",
       "      <td>2</td>\n",
       "      <td>3</td>\n",
       "      <td>2</td>\n",
       "      <td>3</td>\n",
       "      <td>2</td>\n",
       "      <td>2</td>\n",
       "      <td>1</td>\n",
       "      <td>2</td>\n",
       "      <td>2</td>\n",
       "      <td>1</td>\n",
       "    </tr>\n",
       "    <tr>\n",
       "      <td>1</td>\n",
       "      <td>2</td>\n",
       "      <td>2</td>\n",
       "      <td>1</td>\n",
       "      <td>1</td>\n",
       "      <td>1</td>\n",
       "      <td>4</td>\n",
       "      <td>2</td>\n",
       "      <td>4</td>\n",
       "      <td>2</td>\n",
       "      <td>1</td>\n",
       "      <td>...</td>\n",
       "      <td>2</td>\n",
       "      <td>3</td>\n",
       "      <td>3</td>\n",
       "      <td>1</td>\n",
       "      <td>1</td>\n",
       "      <td>1</td>\n",
       "      <td>2</td>\n",
       "      <td>2</td>\n",
       "      <td>2</td>\n",
       "      <td>1</td>\n",
       "    </tr>\n",
       "    <tr>\n",
       "      <td>2</td>\n",
       "      <td>1</td>\n",
       "      <td>1</td>\n",
       "      <td>1</td>\n",
       "      <td>1</td>\n",
       "      <td>1</td>\n",
       "      <td>4</td>\n",
       "      <td>1</td>\n",
       "      <td>4</td>\n",
       "      <td>1</td>\n",
       "      <td>1</td>\n",
       "      <td>...</td>\n",
       "      <td>2</td>\n",
       "      <td>4</td>\n",
       "      <td>4</td>\n",
       "      <td>2</td>\n",
       "      <td>2</td>\n",
       "      <td>2</td>\n",
       "      <td>2</td>\n",
       "      <td>3</td>\n",
       "      <td>2</td>\n",
       "      <td>2</td>\n",
       "    </tr>\n",
       "    <tr>\n",
       "      <td>3</td>\n",
       "      <td>2</td>\n",
       "      <td>2</td>\n",
       "      <td>2</td>\n",
       "      <td>2</td>\n",
       "      <td>2</td>\n",
       "      <td>3</td>\n",
       "      <td>2</td>\n",
       "      <td>3</td>\n",
       "      <td>2</td>\n",
       "      <td>2</td>\n",
       "      <td>...</td>\n",
       "      <td>3</td>\n",
       "      <td>3</td>\n",
       "      <td>2</td>\n",
       "      <td>2</td>\n",
       "      <td>2</td>\n",
       "      <td>2</td>\n",
       "      <td>2</td>\n",
       "      <td>2</td>\n",
       "      <td>2</td>\n",
       "      <td>2</td>\n",
       "    </tr>\n",
       "    <tr>\n",
       "      <td>4</td>\n",
       "      <td>3</td>\n",
       "      <td>3</td>\n",
       "      <td>3</td>\n",
       "      <td>3</td>\n",
       "      <td>2</td>\n",
       "      <td>1</td>\n",
       "      <td>1</td>\n",
       "      <td>4</td>\n",
       "      <td>2</td>\n",
       "      <td>4</td>\n",
       "      <td>...</td>\n",
       "      <td>4</td>\n",
       "      <td>2</td>\n",
       "      <td>2</td>\n",
       "      <td>4</td>\n",
       "      <td>2</td>\n",
       "      <td>4</td>\n",
       "      <td>2</td>\n",
       "      <td>2</td>\n",
       "      <td>2</td>\n",
       "      <td>2</td>\n",
       "    </tr>\n",
       "  </tbody>\n",
       "</table>\n",
       "<p>5 rows × 189 columns</p>\n",
       "</div>"
      ],
      "text/plain": [
       "   S1MTCHVALUES  S1MTCHRESPCT  S1MTCHFAIR  S1MTCHCONF  S1MTCHMISTKE  \\\n",
       "0             1             1           1           1             1   \n",
       "1             2             2           1           1             1   \n",
       "2             1             1           1           1             1   \n",
       "3             2             2           2           2             2   \n",
       "4             3             3           3           3             2   \n",
       "\n",
       "   S1MTCHTREAT  S1MTCHINTRST  S1MTCHMFDIFF  S1MTCHEASY  S1STCHVALUES  ...  \\\n",
       "0            3             2             3           1             1  ...   \n",
       "1            4             2             4           2             1  ...   \n",
       "2            4             1             4           1             1  ...   \n",
       "3            3             2             3           2             2  ...   \n",
       "4            1             1             4           2             4  ...   \n",
       "\n",
       "   S1SENJOYING  S1SWASTE  S1SBORING  S1SUSELIFE  S1SUSECLG  S1SUSEJOB  \\\n",
       "0            2         3          2           3          2          2   \n",
       "1            2         3          3           1          1          1   \n",
       "2            2         4          4           2          2          2   \n",
       "3            3         3          2           2          2          2   \n",
       "4            4         2          2           4          2          4   \n",
       "\n",
       "   S1STESTS  S1STEXTBOOK  S1SSKILLS  S1SASSEXCL  \n",
       "0         1            2          2           1  \n",
       "1         2            2          2           1  \n",
       "2         2            3          2           2  \n",
       "3         2            2          2           2  \n",
       "4         2            2          2           2  \n",
       "\n",
       "[5 rows x 189 columns]"
      ]
     },
     "execution_count": 99,
     "metadata": {},
     "output_type": "execute_result"
    }
   ],
   "source": [
    "df_select = df_un[features_list]\n",
    "df_select.head()"
   ]
  },
  {
   "cell_type": "markdown",
   "metadata": {},
   "source": [
    "# Save Processed Data"
   ]
  },
  {
   "cell_type": "code",
   "execution_count": 95,
   "metadata": {},
   "outputs": [],
   "source": [
    "# save processed dataframe to file\n",
    "\n",
    "out_path = './processed/hsls_16_student_processed.csv'\n",
    "df_select.to_csv(out_path)"
   ]
  }
 ],
 "metadata": {
  "kernelspec": {
   "display_name": "Python 3",
   "language": "python",
   "name": "python3"
  },
  "language_info": {
   "codemirror_mode": {
    "name": "ipython",
    "version": 3
   },
   "file_extension": ".py",
   "mimetype": "text/x-python",
   "name": "python",
   "nbconvert_exporter": "python",
   "pygments_lexer": "ipython3",
   "version": "3.7.4"
  }
 },
 "nbformat": 4,
 "nbformat_minor": 2
}
