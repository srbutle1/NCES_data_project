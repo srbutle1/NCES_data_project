{
 "cells": [
  {
   "cell_type": "code",
   "execution_count": 31,
   "metadata": {},
   "outputs": [],
   "source": [
    "import numpy as np\n",
    "import pandas as pd\n",
    "import re\n",
    "import matplotlib.pyplot as plt\n",
    "import seaborn as sns\n",
    "from IPython.core.interactiveshell import InteractiveShell\n",
    "InteractiveShell.ast_node_interactivity = \"all\"  # shows multiple outputs\n",
    "\n",
    "import warnings\n",
    "warnings.filterwarnings('ignore')"
   ]
  },
  {
   "cell_type": "code",
   "execution_count": 2,
   "metadata": {},
   "outputs": [],
   "source": [
    "from sklearn.model_selection import train_test_split\n",
    "from sklearn.metrics import mean_absolute_error\n",
    "from sklearn.linear_model import LogisticRegression\n",
    "from sklearn.metrics import roc_auc_score\n",
    "from sklearn.ensemble import GradientBoostingClassifier"
   ]
  },
  {
   "cell_type": "markdown",
   "metadata": {},
   "source": [
    "# Get Processed Data"
   ]
  },
  {
   "cell_type": "code",
   "execution_count": 3,
   "metadata": {},
   "outputs": [
    {
     "name": "stdout",
     "output_type": "stream",
     "text": [
      "LICENSE                   \u001b[34mdata\u001b[m\u001b[m                      nces_analysis.ipynb\r\n",
      "README.md                 \u001b[34mdata_docs\u001b[m\u001b[m                 nces_features.ipynb\r\n",
      "Untitled.ipynb            data_features-Copy1.ipynb \u001b[34mprocessed\u001b[m\u001b[m\r\n"
     ]
    }
   ],
   "source": [
    "!ls "
   ]
  },
  {
   "cell_type": "code",
   "execution_count": 4,
   "metadata": {},
   "outputs": [
    {
     "name": "stdout",
     "output_type": "stream",
     "text": [
      "hsls_16_student_engineered.csv hsls_16_student_processed.csv\r\n"
     ]
    }
   ],
   "source": [
    "!ls processed"
   ]
  },
  {
   "cell_type": "code",
   "execution_count": 5,
   "metadata": {},
   "outputs": [],
   "source": [
    "data_path='processed/hsls_16_student_engineered.csv'\n",
    "df = pd.read_csv(data_path)"
   ]
  },
  {
   "cell_type": "markdown",
   "metadata": {},
   "source": [
    "# 9th Grade Math -> AP Math"
   ]
  },
  {
   "cell_type": "code",
   "execution_count": 8,
   "metadata": {},
   "outputs": [],
   "source": [
    "# see if 9th grade self assessment and math class can \n",
    "# predict if a student takes AP Math"
   ]
  },
  {
   "cell_type": "code",
   "execution_count": 9,
   "metadata": {},
   "outputs": [],
   "source": [
    "# variables describing students self assessment of math ability\n",
    "# and current math class\n",
    "\n",
    "ind_self_beg = df.columns.get_loc('S1MPERSON1')\n",
    "ind_self_end = df.columns.get_loc('S1MASSEXCL')\n",
    "\n",
    "math_self_list = df.columns[ind_self_beg:ind_self_end+1].to_list()"
   ]
  },
  {
   "cell_type": "code",
   "execution_count": 10,
   "metadata": {},
   "outputs": [
    {
     "data": {
      "text/plain": [
       "(23503, 40)"
      ]
     },
     "execution_count": 10,
     "metadata": {},
     "output_type": "execute_result"
    }
   ],
   "source": [
    "# create dataframe with features of interest\n",
    "\n",
    "df_09math_AP = df[math_self_list + ['S3APMATH_ynm']]\n",
    "df_09math_AP.shape"
   ]
  },
  {
   "cell_type": "code",
   "execution_count": 11,
   "metadata": {},
   "outputs": [
    {
     "data": {
      "text/plain": [
       " 0    13748\n",
       "-1     6279\n",
       " 1     3476\n",
       "Name: S3APMATH_ynm, dtype: int64"
      ]
     },
     "execution_count": 11,
     "metadata": {},
     "output_type": "execute_result"
    }
   ],
   "source": [
    "df_09math_AP['S3APMATH_ynm'].value_counts()"
   ]
  },
  {
   "cell_type": "code",
   "execution_count": 13,
   "metadata": {},
   "outputs": [],
   "source": [
    "# drop data where APmath is unknown\n",
    "\n",
    "df_09math_AP = df_09math_AP[df_09math_AP['S3APMATH_ynm']>=0]"
   ]
  },
  {
   "cell_type": "code",
   "execution_count": 59,
   "metadata": {},
   "outputs": [],
   "source": [
    "# for col in math_self_list:\n",
    "#     df_09math_AP[col].value_counts()"
   ]
  },
  {
   "cell_type": "code",
   "execution_count": 17,
   "metadata": {},
   "outputs": [
    {
     "data": {
      "text/plain": [
       "(15911, 40)"
      ]
     },
     "execution_count": 17,
     "metadata": {},
     "output_type": "execute_result"
    }
   ],
   "source": [
    "# get rid of unit non-response\n",
    "\n",
    "for i, col in enumerate(math_self_list):\n",
    "    if i==0:\n",
    "        no_unit_nr = ~df_09math_AP[col].isin([-8])\n",
    "    else:\n",
    "        no_unit_nr *= ~df_09math_AP[col].isin([-8]) \n",
    "\n",
    "df_09math_AP = df_09math_AP[no_unit_nr]\n",
    "df_09math_AP.shape"
   ]
  },
  {
   "cell_type": "code",
   "execution_count": 18,
   "metadata": {},
   "outputs": [
    {
     "data": {
      "text/plain": [
       "(15006, 40)"
      ]
     },
     "execution_count": 18,
     "metadata": {},
     "output_type": "execute_result"
    }
   ],
   "source": [
    "# get rid of missing (**later do imputation**)\n",
    "\n",
    "for i, col in enumerate(math_self_list):\n",
    "    if i==0:\n",
    "        no_missing = ~df_09math_AP[col].isin([-9])\n",
    "    else:\n",
    "        no_missing *= ~df_09math_AP[col].isin([-9]) \n",
    "\n",
    "df_09math_AP = df_09math_AP[no_missing]\n",
    "df_09math_AP.shape"
   ]
  },
  {
   "cell_type": "code",
   "execution_count": 19,
   "metadata": {},
   "outputs": [],
   "source": [
    "# values of -7 are legitimate skips. set to 0\n",
    "\n",
    "def n7to0(x):\n",
    "    if x==-7: \n",
    "        return 0\n",
    "    else:\n",
    "        return x"
   ]
  },
  {
   "cell_type": "code",
   "execution_count": 20,
   "metadata": {},
   "outputs": [],
   "source": [
    "df_09math_AP = df_09math_AP.applymap(n7to0)"
   ]
  },
  {
   "cell_type": "markdown",
   "metadata": {},
   "source": [
    "## Logistic Regression"
   ]
  },
  {
   "cell_type": "code",
   "execution_count": 21,
   "metadata": {},
   "outputs": [],
   "source": [
    "# separate features into predictors and outcome\n",
    "\n",
    "X = df_09math_AP[math_self_list]\n",
    "y = df_09math_AP['S3APMATH_ynm']"
   ]
  },
  {
   "cell_type": "code",
   "execution_count": 22,
   "metadata": {},
   "outputs": [],
   "source": [
    "# split into train/test \n",
    "\n",
    "X_train, X_test, y_train, y_test = train_test_split(X, y, random_state=0)"
   ]
  },
  {
   "cell_type": "code",
   "execution_count": 23,
   "metadata": {},
   "outputs": [
    {
     "data": {
      "text/plain": [
       "LogisticRegression(C=1, class_weight=None, dual=False, fit_intercept=True,\n",
       "                   intercept_scaling=1, l1_ratio=None, max_iter=200,\n",
       "                   multi_class='warn', n_jobs=None, penalty='l2',\n",
       "                   random_state=0, solver='warn', tol=0.0001, verbose=0,\n",
       "                   warm_start=False)"
      ]
     },
     "execution_count": 23,
     "metadata": {},
     "output_type": "execute_result"
    }
   ],
   "source": [
    "# define and fit model \n",
    "\n",
    "logit_model = LogisticRegression(random_state=0, max_iter=200, C=1)\n",
    "logit_model.fit(X_train, y_train)"
   ]
  },
  {
   "cell_type": "code",
   "execution_count": 25,
   "metadata": {},
   "outputs": [
    {
     "data": {
      "text/plain": [
       "0.8104897282269548"
      ]
     },
     "execution_count": 25,
     "metadata": {},
     "output_type": "execute_result"
    }
   ],
   "source": [
    "# find probability score \n",
    "\n",
    "probs = logit_model.predict_proba(X_test)\n",
    "probs = probs[:,1]\n",
    "loss = roc_auc_score(y_test, probs)\n",
    "loss"
   ]
  },
  {
   "cell_type": "code",
   "execution_count": 48,
   "metadata": {},
   "outputs": [],
   "source": [
    "%%capture\n",
    "# tune parameters\n",
    "\n",
    "d = {}\n",
    "\n",
    "Cs = [0.01,0.1,1,10,100]\n",
    "m_is = [50,100,200]\n",
    "\n",
    "for c in Cs:\n",
    "    d[str(c)]={}\n",
    "    for mi in m_is:       \n",
    "        lr_model = LogisticRegression(random_state=0, max_iter=mi, C=c)\n",
    "        lr_model.fit(X_train, y_train)\n",
    "        probs = lr_model.predict_proba(X_test)\n",
    "        probs = probs[:,1]\n",
    "        loss = roc_auc_score(y_test, probs)\n",
    "        d[str(c)][str(mi)]=loss\n"
   ]
  },
  {
   "cell_type": "code",
   "execution_count": 54,
   "metadata": {},
   "outputs": [
    {
     "data": {
      "text/html": [
       "<style  type=\"text/css\" >\n",
       "    #T_c1e91aae_a757_11ea_b7c2_fe00dd40d201row0_col0 {\n",
       "            background-color:  #e5ffe5;\n",
       "            color:  #000000;\n",
       "        }    #T_c1e91aae_a757_11ea_b7c2_fe00dd40d201row0_col1 {\n",
       "            background-color:  #e5ffe5;\n",
       "            color:  #000000;\n",
       "        }    #T_c1e91aae_a757_11ea_b7c2_fe00dd40d201row0_col2 {\n",
       "            background-color:  #e5ffe5;\n",
       "            color:  #000000;\n",
       "        }    #T_c1e91aae_a757_11ea_b7c2_fe00dd40d201row0_col3 {\n",
       "            background-color:  #e5ffe5;\n",
       "            color:  #000000;\n",
       "        }    #T_c1e91aae_a757_11ea_b7c2_fe00dd40d201row0_col4 {\n",
       "            background-color:  #e5ffe5;\n",
       "            color:  #000000;\n",
       "        }    #T_c1e91aae_a757_11ea_b7c2_fe00dd40d201row1_col0 {\n",
       "            background-color:  #e5ffe5;\n",
       "            color:  #000000;\n",
       "        }    #T_c1e91aae_a757_11ea_b7c2_fe00dd40d201row1_col1 {\n",
       "            background-color:  #e5ffe5;\n",
       "            color:  #000000;\n",
       "        }    #T_c1e91aae_a757_11ea_b7c2_fe00dd40d201row1_col2 {\n",
       "            background-color:  #e5ffe5;\n",
       "            color:  #000000;\n",
       "        }    #T_c1e91aae_a757_11ea_b7c2_fe00dd40d201row1_col3 {\n",
       "            background-color:  #e5ffe5;\n",
       "            color:  #000000;\n",
       "        }    #T_c1e91aae_a757_11ea_b7c2_fe00dd40d201row1_col4 {\n",
       "            background-color:  #e5ffe5;\n",
       "            color:  #000000;\n",
       "        }    #T_c1e91aae_a757_11ea_b7c2_fe00dd40d201row2_col0 {\n",
       "            background-color:  #e5ffe5;\n",
       "            color:  #000000;\n",
       "        }    #T_c1e91aae_a757_11ea_b7c2_fe00dd40d201row2_col1 {\n",
       "            background-color:  #e5ffe5;\n",
       "            color:  #000000;\n",
       "        }    #T_c1e91aae_a757_11ea_b7c2_fe00dd40d201row2_col2 {\n",
       "            background-color:  #e5ffe5;\n",
       "            color:  #000000;\n",
       "        }    #T_c1e91aae_a757_11ea_b7c2_fe00dd40d201row2_col3 {\n",
       "            background-color:  #e5ffe5;\n",
       "            color:  #000000;\n",
       "        }    #T_c1e91aae_a757_11ea_b7c2_fe00dd40d201row2_col4 {\n",
       "            background-color:  #e5ffe5;\n",
       "            color:  #000000;\n",
       "        }</style><table id=\"T_c1e91aae_a757_11ea_b7c2_fe00dd40d201\" ><thead>    <tr>        <th class=\"blank level0\" ></th>        <th class=\"col_heading level0 col0\" >0.01</th>        <th class=\"col_heading level0 col1\" >0.1</th>        <th class=\"col_heading level0 col2\" >1</th>        <th class=\"col_heading level0 col3\" >10</th>        <th class=\"col_heading level0 col4\" >100</th>    </tr></thead><tbody>\n",
       "                <tr>\n",
       "                        <th id=\"T_c1e91aae_a757_11ea_b7c2_fe00dd40d201level0_row0\" class=\"row_heading level0 row0\" >50</th>\n",
       "                        <td id=\"T_c1e91aae_a757_11ea_b7c2_fe00dd40d201row0_col0\" class=\"data row0 col0\" >0.803144</td>\n",
       "                        <td id=\"T_c1e91aae_a757_11ea_b7c2_fe00dd40d201row0_col1\" class=\"data row0 col1\" >0.808654</td>\n",
       "                        <td id=\"T_c1e91aae_a757_11ea_b7c2_fe00dd40d201row0_col2\" class=\"data row0 col2\" >0.81049</td>\n",
       "                        <td id=\"T_c1e91aae_a757_11ea_b7c2_fe00dd40d201row0_col3\" class=\"data row0 col3\" >0.810581</td>\n",
       "                        <td id=\"T_c1e91aae_a757_11ea_b7c2_fe00dd40d201row0_col4\" class=\"data row0 col4\" >0.810537</td>\n",
       "            </tr>\n",
       "            <tr>\n",
       "                        <th id=\"T_c1e91aae_a757_11ea_b7c2_fe00dd40d201level0_row1\" class=\"row_heading level0 row1\" >100</th>\n",
       "                        <td id=\"T_c1e91aae_a757_11ea_b7c2_fe00dd40d201row1_col0\" class=\"data row1 col0\" >0.803144</td>\n",
       "                        <td id=\"T_c1e91aae_a757_11ea_b7c2_fe00dd40d201row1_col1\" class=\"data row1 col1\" >0.808654</td>\n",
       "                        <td id=\"T_c1e91aae_a757_11ea_b7c2_fe00dd40d201row1_col2\" class=\"data row1 col2\" >0.81049</td>\n",
       "                        <td id=\"T_c1e91aae_a757_11ea_b7c2_fe00dd40d201row1_col3\" class=\"data row1 col3\" >0.810581</td>\n",
       "                        <td id=\"T_c1e91aae_a757_11ea_b7c2_fe00dd40d201row1_col4\" class=\"data row1 col4\" >0.810537</td>\n",
       "            </tr>\n",
       "            <tr>\n",
       "                        <th id=\"T_c1e91aae_a757_11ea_b7c2_fe00dd40d201level0_row2\" class=\"row_heading level0 row2\" >200</th>\n",
       "                        <td id=\"T_c1e91aae_a757_11ea_b7c2_fe00dd40d201row2_col0\" class=\"data row2 col0\" >0.803144</td>\n",
       "                        <td id=\"T_c1e91aae_a757_11ea_b7c2_fe00dd40d201row2_col1\" class=\"data row2 col1\" >0.808654</td>\n",
       "                        <td id=\"T_c1e91aae_a757_11ea_b7c2_fe00dd40d201row2_col2\" class=\"data row2 col2\" >0.81049</td>\n",
       "                        <td id=\"T_c1e91aae_a757_11ea_b7c2_fe00dd40d201row2_col3\" class=\"data row2 col3\" >0.810581</td>\n",
       "                        <td id=\"T_c1e91aae_a757_11ea_b7c2_fe00dd40d201row2_col4\" class=\"data row2 col4\" >0.810537</td>\n",
       "            </tr>\n",
       "    </tbody></table>"
      ],
      "text/plain": [
       "<pandas.io.formats.style.Styler at 0x1a1c621a50>"
      ]
     },
     "execution_count": 54,
     "metadata": {},
     "output_type": "execute_result"
    }
   ],
   "source": [
    "# look at auc scores for different parameter combinations\n",
    "\n",
    "lr_auc_df = pd.DataFrame.from_dict(d)\n",
    "\n",
    "cm = sns.light_palette(\"green\", as_cmap=True)\n",
    "\n",
    "(lr_auc_df.style\n",
    "  .background_gradient(cmap=cm))"
   ]
  },
  {
   "cell_type": "code",
   "execution_count": null,
   "metadata": {},
   "outputs": [],
   "source": []
  },
  {
   "cell_type": "markdown",
   "metadata": {},
   "source": [
    "## Tree Ensemble"
   ]
  },
  {
   "cell_type": "code",
   "execution_count": 57,
   "metadata": {},
   "outputs": [],
   "source": [
    "%%capture\n",
    "# fit model/tune parameters\n",
    "\n",
    "d2 = {}\n",
    "\n",
    "LR = [0.05,0.08,0.1,0.15,0.2]\n",
    "NE = [20,30,50,70,100,200]\n",
    "\n",
    "for lr in LR:\n",
    "    d2[str(lr)]={}\n",
    "    for ne in NE:       \n",
    "        gbc_model = GradientBoostingClassifier(learning_rate=lr, \n",
    "                                       n_estimators=ne, max_depth=4,\n",
    "                                      random_state=0)\n",
    "        gbc_model.fit(X_train, y_train)\n",
    "        probs = gbc_model.predict_proba(X_test)\n",
    "        probs = probs[:,1]\n",
    "        loss = roc_auc_score(y_test, probs)\n",
    "        d2[str(lr)][str(ne)]=loss"
   ]
  },
  {
   "cell_type": "code",
   "execution_count": 58,
   "metadata": {},
   "outputs": [
    {
     "data": {
      "text/html": [
       "<style  type=\"text/css\" >\n",
       "    #T_b53868cc_a758_11ea_b7c2_fe00dd40d201row0_col0 {\n",
       "            background-color:  #e5ffe5;\n",
       "            color:  #000000;\n",
       "        }    #T_b53868cc_a758_11ea_b7c2_fe00dd40d201row0_col1 {\n",
       "            background-color:  #e5ffe5;\n",
       "            color:  #000000;\n",
       "        }    #T_b53868cc_a758_11ea_b7c2_fe00dd40d201row0_col2 {\n",
       "            background-color:  #e5ffe5;\n",
       "            color:  #000000;\n",
       "        }    #T_b53868cc_a758_11ea_b7c2_fe00dd40d201row0_col3 {\n",
       "            background-color:  #289628;\n",
       "            color:  #000000;\n",
       "        }    #T_b53868cc_a758_11ea_b7c2_fe00dd40d201row0_col4 {\n",
       "            background-color:  #038103;\n",
       "            color:  #f1f1f1;\n",
       "        }    #T_b53868cc_a758_11ea_b7c2_fe00dd40d201row1_col0 {\n",
       "            background-color:  #d4f6d4;\n",
       "            color:  #000000;\n",
       "        }    #T_b53868cc_a758_11ea_b7c2_fe00dd40d201row1_col1 {\n",
       "            background-color:  #63b763;\n",
       "            color:  #000000;\n",
       "        }    #T_b53868cc_a758_11ea_b7c2_fe00dd40d201row1_col2 {\n",
       "            background-color:  #3aa03a;\n",
       "            color:  #000000;\n",
       "        }    #T_b53868cc_a758_11ea_b7c2_fe00dd40d201row1_col3 {\n",
       "            background-color:  #008000;\n",
       "            color:  #f1f1f1;\n",
       "        }    #T_b53868cc_a758_11ea_b7c2_fe00dd40d201row1_col4 {\n",
       "            background-color:  #008000;\n",
       "            color:  #f1f1f1;\n",
       "        }    #T_b53868cc_a758_11ea_b7c2_fe00dd40d201row2_col0 {\n",
       "            background-color:  #58b158;\n",
       "            color:  #000000;\n",
       "        }    #T_b53868cc_a758_11ea_b7c2_fe00dd40d201row2_col1 {\n",
       "            background-color:  #209220;\n",
       "            color:  #000000;\n",
       "        }    #T_b53868cc_a758_11ea_b7c2_fe00dd40d201row2_col2 {\n",
       "            background-color:  #008000;\n",
       "            color:  #f1f1f1;\n",
       "        }    #T_b53868cc_a758_11ea_b7c2_fe00dd40d201row2_col3 {\n",
       "            background-color:  #098509;\n",
       "            color:  #f1f1f1;\n",
       "        }    #T_b53868cc_a758_11ea_b7c2_fe00dd40d201row2_col4 {\n",
       "            background-color:  #289628;\n",
       "            color:  #000000;\n",
       "        }    #T_b53868cc_a758_11ea_b7c2_fe00dd40d201row3_col0 {\n",
       "            background-color:  #1c8f1c;\n",
       "            color:  #000000;\n",
       "        }    #T_b53868cc_a758_11ea_b7c2_fe00dd40d201row3_col1 {\n",
       "            background-color:  #0c860c;\n",
       "            color:  #f1f1f1;\n",
       "        }    #T_b53868cc_a758_11ea_b7c2_fe00dd40d201row3_col2 {\n",
       "            background-color:  #0e880e;\n",
       "            color:  #f1f1f1;\n",
       "        }    #T_b53868cc_a758_11ea_b7c2_fe00dd40d201row3_col3 {\n",
       "            background-color:  #309a30;\n",
       "            color:  #000000;\n",
       "        }    #T_b53868cc_a758_11ea_b7c2_fe00dd40d201row3_col4 {\n",
       "            background-color:  #43a543;\n",
       "            color:  #000000;\n",
       "        }    #T_b53868cc_a758_11ea_b7c2_fe00dd40d201row4_col0 {\n",
       "            background-color:  #008000;\n",
       "            color:  #f1f1f1;\n",
       "        }    #T_b53868cc_a758_11ea_b7c2_fe00dd40d201row4_col1 {\n",
       "            background-color:  #008000;\n",
       "            color:  #f1f1f1;\n",
       "        }    #T_b53868cc_a758_11ea_b7c2_fe00dd40d201row4_col2 {\n",
       "            background-color:  #088408;\n",
       "            color:  #f1f1f1;\n",
       "        }    #T_b53868cc_a758_11ea_b7c2_fe00dd40d201row4_col3 {\n",
       "            background-color:  #389f38;\n",
       "            color:  #000000;\n",
       "        }    #T_b53868cc_a758_11ea_b7c2_fe00dd40d201row4_col4 {\n",
       "            background-color:  #6bbb6b;\n",
       "            color:  #000000;\n",
       "        }    #T_b53868cc_a758_11ea_b7c2_fe00dd40d201row5_col0 {\n",
       "            background-color:  #158b15;\n",
       "            color:  #000000;\n",
       "        }    #T_b53868cc_a758_11ea_b7c2_fe00dd40d201row5_col1 {\n",
       "            background-color:  #359d35;\n",
       "            color:  #000000;\n",
       "        }    #T_b53868cc_a758_11ea_b7c2_fe00dd40d201row5_col2 {\n",
       "            background-color:  #91d091;\n",
       "            color:  #000000;\n",
       "        }    #T_b53868cc_a758_11ea_b7c2_fe00dd40d201row5_col3 {\n",
       "            background-color:  #e5ffe5;\n",
       "            color:  #000000;\n",
       "        }    #T_b53868cc_a758_11ea_b7c2_fe00dd40d201row5_col4 {\n",
       "            background-color:  #e5ffe5;\n",
       "            color:  #000000;\n",
       "        }</style><table id=\"T_b53868cc_a758_11ea_b7c2_fe00dd40d201\" ><thead>    <tr>        <th class=\"blank level0\" ></th>        <th class=\"col_heading level0 col0\" >0.05</th>        <th class=\"col_heading level0 col1\" >0.08</th>        <th class=\"col_heading level0 col2\" >0.1</th>        <th class=\"col_heading level0 col3\" >0.15</th>        <th class=\"col_heading level0 col4\" >0.2</th>    </tr></thead><tbody>\n",
       "                <tr>\n",
       "                        <th id=\"T_b53868cc_a758_11ea_b7c2_fe00dd40d201level0_row0\" class=\"row_heading level0 row0\" >20</th>\n",
       "                        <td id=\"T_b53868cc_a758_11ea_b7c2_fe00dd40d201row0_col0\" class=\"data row0 col0\" >0.800201</td>\n",
       "                        <td id=\"T_b53868cc_a758_11ea_b7c2_fe00dd40d201row0_col1\" class=\"data row0 col1\" >0.801481</td>\n",
       "                        <td id=\"T_b53868cc_a758_11ea_b7c2_fe00dd40d201row0_col2\" class=\"data row0 col2\" >0.80307</td>\n",
       "                        <td id=\"T_b53868cc_a758_11ea_b7c2_fe00dd40d201row0_col3\" class=\"data row0 col3\" >0.807152</td>\n",
       "                        <td id=\"T_b53868cc_a758_11ea_b7c2_fe00dd40d201row0_col4\" class=\"data row0 col4\" >0.807516</td>\n",
       "            </tr>\n",
       "            <tr>\n",
       "                        <th id=\"T_b53868cc_a758_11ea_b7c2_fe00dd40d201level0_row1\" class=\"row_heading level0 row1\" >30</th>\n",
       "                        <td id=\"T_b53868cc_a758_11ea_b7c2_fe00dd40d201row1_col0\" class=\"data row1 col0\" >0.800823</td>\n",
       "                        <td id=\"T_b53868cc_a758_11ea_b7c2_fe00dd40d201row1_col1\" class=\"data row1 col1\" >0.805649</td>\n",
       "                        <td id=\"T_b53868cc_a758_11ea_b7c2_fe00dd40d201row1_col2\" class=\"data row1 col2\" >0.80775</td>\n",
       "                        <td id=\"T_b53868cc_a758_11ea_b7c2_fe00dd40d201row1_col3\" class=\"data row1 col3\" >0.808573</td>\n",
       "                        <td id=\"T_b53868cc_a758_11ea_b7c2_fe00dd40d201row1_col4\" class=\"data row1 col4\" >0.807671</td>\n",
       "            </tr>\n",
       "            <tr>\n",
       "                        <th id=\"T_b53868cc_a758_11ea_b7c2_fe00dd40d201level0_row2\" class=\"row_heading level0 row2\" >50</th>\n",
       "                        <td id=\"T_b53868cc_a758_11ea_b7c2_fe00dd40d201row2_col0\" class=\"data row2 col0\" >0.805239</td>\n",
       "                        <td id=\"T_b53868cc_a758_11ea_b7c2_fe00dd40d201row2_col1\" class=\"data row2 col1\" >0.807779</td>\n",
       "                        <td id=\"T_b53868cc_a758_11ea_b7c2_fe00dd40d201row2_col2\" class=\"data row2 col2\" >0.809339</td>\n",
       "                        <td id=\"T_b53868cc_a758_11ea_b7c2_fe00dd40d201row2_col3\" class=\"data row2 col3\" >0.808231</td>\n",
       "                        <td id=\"T_b53868cc_a758_11ea_b7c2_fe00dd40d201row2_col4\" class=\"data row2 col4\" >0.805765</td>\n",
       "            </tr>\n",
       "            <tr>\n",
       "                        <th id=\"T_b53868cc_a758_11ea_b7c2_fe00dd40d201level0_row3\" class=\"row_heading level0 row3\" >70</th>\n",
       "                        <td id=\"T_b53868cc_a758_11ea_b7c2_fe00dd40d201row3_col0\" class=\"data row3 col0\" >0.807397</td>\n",
       "                        <td id=\"T_b53868cc_a758_11ea_b7c2_fe00dd40d201row3_col1\" class=\"data row3 col1\" >0.808444</td>\n",
       "                        <td id=\"T_b53868cc_a758_11ea_b7c2_fe00dd40d201row3_col2\" class=\"data row3 col2\" >0.808945</td>\n",
       "                        <td id=\"T_b53868cc_a758_11ea_b7c2_fe00dd40d201row3_col3\" class=\"data row3 col3\" >0.806872</td>\n",
       "                        <td id=\"T_b53868cc_a758_11ea_b7c2_fe00dd40d201row3_col4\" class=\"data row3 col4\" >0.804532</td>\n",
       "            </tr>\n",
       "            <tr>\n",
       "                        <th id=\"T_b53868cc_a758_11ea_b7c2_fe00dd40d201level0_row4\" class=\"row_heading level0 row4\" >100</th>\n",
       "                        <td id=\"T_b53868cc_a758_11ea_b7c2_fe00dd40d201row4_col0\" class=\"data row4 col0\" >0.808391</td>\n",
       "                        <td id=\"T_b53868cc_a758_11ea_b7c2_fe00dd40d201row4_col1\" class=\"data row4 col1\" >0.808838</td>\n",
       "                        <td id=\"T_b53868cc_a758_11ea_b7c2_fe00dd40d201row4_col2\" class=\"data row4 col2\" >0.809104</td>\n",
       "                        <td id=\"T_b53868cc_a758_11ea_b7c2_fe00dd40d201row4_col3\" class=\"data row4 col3\" >0.806585</td>\n",
       "                        <td id=\"T_b53868cc_a758_11ea_b7c2_fe00dd40d201row4_col4\" class=\"data row4 col4\" >0.802624</td>\n",
       "            </tr>\n",
       "            <tr>\n",
       "                        <th id=\"T_b53868cc_a758_11ea_b7c2_fe00dd40d201level0_row5\" class=\"row_heading level0 row5\" >200</th>\n",
       "                        <td id=\"T_b53868cc_a758_11ea_b7c2_fe00dd40d201row5_col0\" class=\"data row5 col0\" >0.807651</td>\n",
       "                        <td id=\"T_b53868cc_a758_11ea_b7c2_fe00dd40d201row5_col1\" class=\"data row5 col1\" >0.807124</td>\n",
       "                        <td id=\"T_b53868cc_a758_11ea_b7c2_fe00dd40d201row5_col2\" class=\"data row5 col2\" >0.805374</td>\n",
       "                        <td id=\"T_b53868cc_a758_11ea_b7c2_fe00dd40d201row5_col3\" class=\"data row5 col3\" >0.800495</td>\n",
       "                        <td id=\"T_b53868cc_a758_11ea_b7c2_fe00dd40d201row5_col4\" class=\"data row5 col4\" >0.796868</td>\n",
       "            </tr>\n",
       "    </tbody></table>"
      ],
      "text/plain": [
       "<pandas.io.formats.style.Styler at 0x1a1c621810>"
      ]
     },
     "execution_count": 58,
     "metadata": {},
     "output_type": "execute_result"
    }
   ],
   "source": [
    "# look at auc scores for different parameter combinations\n",
    "\n",
    "gbc_auc_df = pd.DataFrame.from_dict(d2)\n",
    "\n",
    "cm = sns.light_palette(\"green\", as_cmap=True)\n",
    "\n",
    "(gbc_auc_df.style\n",
    "  .background_gradient(cmap=cm))"
   ]
  },
  {
   "cell_type": "code",
   "execution_count": null,
   "metadata": {},
   "outputs": [],
   "source": []
  }
 ],
 "metadata": {
  "kernelspec": {
   "display_name": "Python 3",
   "language": "python",
   "name": "python3"
  },
  "language_info": {
   "codemirror_mode": {
    "name": "ipython",
    "version": 3
   },
   "file_extension": ".py",
   "mimetype": "text/x-python",
   "name": "python",
   "nbconvert_exporter": "python",
   "pygments_lexer": "ipython3",
   "version": "3.7.4"
  }
 },
 "nbformat": 4,
 "nbformat_minor": 2
}
