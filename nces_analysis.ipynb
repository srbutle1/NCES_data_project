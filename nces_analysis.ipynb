{
 "cells": [
  {
   "cell_type": "code",
   "execution_count": 98,
   "metadata": {},
   "outputs": [],
   "source": [
    "import numpy as np\n",
    "import pandas as pd\n",
    "import re\n",
    "import matplotlib.pyplot as plt\n",
    "\n",
    "from IPython.core.interactiveshell import InteractiveShell\n",
    "InteractiveShell.ast_node_interactivity = \"all\"          # shows multiple outputs\n",
    "\n",
    "import warnings\n",
    "warnings.filterwarnings('ignore')"
   ]
  },
  {
   "cell_type": "code",
   "execution_count": 109,
   "metadata": {},
   "outputs": [],
   "source": [
    "import matplotlib as mpl\n",
    "mpl.rcParams['figure.dpi']= 150"
   ]
  },
  {
   "cell_type": "markdown",
   "metadata": {},
   "source": [
    "# Get Processed Data"
   ]
  },
  {
   "cell_type": "code",
   "execution_count": 1,
   "metadata": {},
   "outputs": [
    {
     "name": "stdout",
     "output_type": "stream",
     "text": [
      "LICENSE                   \u001b[34mdata_docs\u001b[m\u001b[m                 nces_analysis.ipynb\r\n",
      "README.md                 data_features-Copy1.ipynb \u001b[34mprocessed\u001b[m\u001b[m\r\n",
      "\u001b[34mdata\u001b[m\u001b[m                      data_features.ipynb\r\n"
     ]
    }
   ],
   "source": [
    "!ls"
   ]
  },
  {
   "cell_type": "code",
   "execution_count": 2,
   "metadata": {},
   "outputs": [
    {
     "name": "stdout",
     "output_type": "stream",
     "text": [
      "hsls_16_student_processed.csv\r\n"
     ]
    }
   ],
   "source": [
    "!ls processed"
   ]
  },
  {
   "cell_type": "code",
   "execution_count": 5,
   "metadata": {},
   "outputs": [],
   "source": [
    "data_path='processed/hsls_16_student_processed.csv'\n",
    "df = pd.read_csv(data_path)"
   ]
  },
  {
   "cell_type": "code",
   "execution_count": 7,
   "metadata": {},
   "outputs": [],
   "source": [
    "cols_list = df.columns"
   ]
  },
  {
   "cell_type": "markdown",
   "metadata": {},
   "source": [
    "# Feature Engineering"
   ]
  },
  {
   "cell_type": "markdown",
   "metadata": {},
   "source": [
    "### students' assessment of math/science teachers"
   ]
  },
  {
   "cell_type": "code",
   "execution_count": 8,
   "metadata": {},
   "outputs": [],
   "source": [
    "# students' assessment of math teachers\n",
    "\n",
    "rex = re.compile('S1MTCH')\n",
    "math_teach = [col for col in cols_list if re.match(rex, col)]\n",
    "\n",
    "# students' assessment of science teachers\n",
    "\n",
    "rex = re.compile('S1STCH')\n",
    "sci_teach = [col for col in cols_list if re.match(rex, col)]\n",
    "\n",
    "# from the documentation (Codebook.txt)\n",
    "# features in math_teach, sci_teach take values\n",
    "\n",
    "# Category            Label                                            \n",
    "# ------------------- -----------------------\n",
    "# 1                   Strongly agree                  \n",
    "# 2                   Agree                         \n",
    "# 3                   Disagree                   \n",
    "# 4                   Strongly disagree        \n",
    "# -9                  Missing                  \n",
    "# -8                  Unit non-response         \n",
    "# -7                  Item legitimate skip/NA                                                                   "
   ]
  },
  {
   "cell_type": "code",
   "execution_count": 9,
   "metadata": {},
   "outputs": [],
   "source": [
    "# create features from math/science teacher assessment variables\n",
    "\n",
    "math_teach_new = list()\n",
    "for col in math_teach:\n",
    "    df[col+'_agree']    = df[col].isin([1,2])\n",
    "    df[col+'_disagree'] = df[col].isin([3,4])\n",
    "    math_teach_new += [col+'_agree',col+'_disagree']\n",
    "    \n",
    "sci_teach_new = list()    \n",
    "for col in sci_teach:\n",
    "    df[col+'_agree']    = df[col].isin([1,2]) \n",
    "    df[col+'_disagree'] = df[col].isin([3,4]) \n",
    "    sci_teach_new += [col+'_agree',col+'_disagree']"
   ]
  },
  {
   "cell_type": "markdown",
   "metadata": {},
   "source": [
    "### students' self assessment of math/science ability"
   ]
  },
  {
   "cell_type": "code",
   "execution_count": 10,
   "metadata": {},
   "outputs": [],
   "source": [
    "# variables describing students' self assessment of math ability\n",
    "\n",
    "ind_self_beg = df.columns.get_loc('S1MPERSON1')\n",
    "ind_self_end = df.columns.get_loc('S1MASSEXCL')\n",
    "\n",
    "math_self = df.columns[ind_self_beg:ind_self_end+1].to_list()\n",
    "\n",
    "# variables describing students' self assessment of science ability\n",
    "\n",
    "ind_self_beg = df.columns.get_loc('S1SPERSON1')\n",
    "ind_self_end = df.columns.get_loc('S1SASSEXCL')\n",
    "\n",
    "sci_self = df.columns[ind_self_beg:ind_self_end+1].to_list()"
   ]
  },
  {
   "cell_type": "markdown",
   "metadata": {},
   "source": [
    "### student took AP math/science"
   ]
  },
  {
   "cell_type": "code",
   "execution_count": 12,
   "metadata": {},
   "outputs": [],
   "source": [
    "# variables describing whether students took AP math/science\n",
    "\n",
    "AP_ms = ['S3APMATH','S3APSCIENCE']"
   ]
  },
  {
   "cell_type": "code",
   "execution_count": 13,
   "metadata": {},
   "outputs": [],
   "source": [
    "# create outcome variables representing whether a student \n",
    "# took AP math or science: yes, no, missing\n",
    "\n",
    "def ynm(x):\n",
    "    if x in [1]: # yes\n",
    "        return 1\n",
    "    if x in [0,-7]: # no\n",
    "        return 0\n",
    "    else:        # x in [-9,-8,-4] - missing\n",
    "        return -1"
   ]
  },
  {
   "cell_type": "code",
   "execution_count": 14,
   "metadata": {},
   "outputs": [],
   "source": [
    "for col in ['S3APMATH','S3APSCIENCE']:\n",
    "    df[col+'_ynm'] = df[col].apply(ynm) "
   ]
  },
  {
   "cell_type": "markdown",
   "metadata": {},
   "source": [
    "### student race"
   ]
  },
  {
   "cell_type": "code",
   "execution_count": 29,
   "metadata": {},
   "outputs": [],
   "source": [
    "# variables describing race\n",
    "\n",
    "race = ['X1RACE']\n",
    "\n",
    "# Category            Label                                     \n",
    "# ------------ ------------------------------------------------\n",
    "# 1             Amer. Indian/Alaska Native, non-Hispanic  \n",
    "# 2             Asian, non-Hispanic                      \n",
    "# 3             Black/African-American, non-Hispanic     \n",
    "# 4             Hispanic, no race specified          \n",
    "# 5             Hispanic, race specified                   \n",
    "# 6             More than one race, non-Hispanic         \n",
    "# 7             Native Hawaiian/Pacific Islander, non-Hispanic\n",
    "# 8             White, non-Hispanic     \n",
    "# -9            Missing  "
   ]
  },
  {
   "cell_type": "code",
   "execution_count": 30,
   "metadata": {},
   "outputs": [],
   "source": [
    "# may drop missing data during analysis"
   ]
  },
  {
   "cell_type": "markdown",
   "metadata": {},
   "source": [
    "### student IEP"
   ]
  },
  {
   "cell_type": "code",
   "execution_count": 31,
   "metadata": {},
   "outputs": [],
   "source": [
    "# variables describing IEP\n",
    "\n",
    "iep = ['X1IEPFLAG']\n",
    "\n",
    "\n",
    "# Category            Label              \n",
    "# ------------------- -------------------\n",
    "# 0                   Student has no IEP  \n",
    "# 1                   Student has an IEP      \n",
    "# -9                  Missing  "
   ]
  },
  {
   "cell_type": "code",
   "execution_count": 32,
   "metadata": {},
   "outputs": [],
   "source": [
    "# may drop missing during analysis"
   ]
  },
  {
   "cell_type": "markdown",
   "metadata": {},
   "source": [
    "### graduated/GED/dropout"
   ]
  },
  {
   "cell_type": "code",
   "execution_count": 33,
   "metadata": {},
   "outputs": [],
   "source": [
    "# variables describing graduation/GED/dropout\n",
    "\n",
    "grad = ['X3HSCOMPSTAT']\n",
    "\n",
    "# from the documentation (Codebook.txt)\n",
    "# X3HSCOMPSTAT takes values\n",
    "\n",
    "# Category            Label                               \n",
    "# -------- ----------------------------------------- \n",
    "# 1         High school diploma                      \n",
    "# 2         GED, cert of attendance, or other HS equiv\n",
    "# 3         Dropped out       \n",
    "# 4         Still enrolled    \n",
    "# 5         Status unknown    "
   ]
  },
  {
   "cell_type": "code",
   "execution_count": 34,
   "metadata": {},
   "outputs": [],
   "source": [
    "# create feature to indicate if student graduated of received GED\n",
    "\n",
    "df['grad_GED'] = df['X3HSCOMPSTAT'].isin([1,2])"
   ]
  },
  {
   "cell_type": "markdown",
   "metadata": {},
   "source": [
    "### parents' education"
   ]
  },
  {
   "cell_type": "code",
   "execution_count": 35,
   "metadata": {},
   "outputs": [],
   "source": [
    "# variables describing parents education\n",
    "\n",
    "pared = ['X1PAR1EDU','X1PAR2EDU']\n",
    "\n",
    "# Category            Label                               \n",
    "# ------------------- -----------------------------------------\n",
    "# 1                   Less than high school       \n",
    "# 2                   High school diploma or GED        \n",
    "# 3                   Associate's degree                     \n",
    "# 4                   Bachelor's degree                      \n",
    "# 5                   Master's degree                          \n",
    "# 7                   Ph.D/M.D/Law/other high lvl prof degree  \n",
    "# -9                  Missing                                \n",
    "# -8                  Unit non-response \n",
    "# -7                  Item legitimate skip/NA "
   ]
  },
  {
   "cell_type": "code",
   "execution_count": 36,
   "metadata": {},
   "outputs": [],
   "source": [
    "# may drop missing responses during analysis"
   ]
  },
  {
   "cell_type": "markdown",
   "metadata": {},
   "source": [
    "# Data Analysis"
   ]
  },
  {
   "cell_type": "markdown",
   "metadata": {},
   "source": [
    "### race and graduation rate"
   ]
  },
  {
   "cell_type": "code",
   "execution_count": 89,
   "metadata": {},
   "outputs": [],
   "source": [
    "# drop data where grad/GED/drop is unknown\n",
    "\n",
    "df_grad_race = df[df['X3HSCOMPSTAT'].isin([1,2,3])][['X1RACE','grad_GED']]"
   ]
  },
  {
   "cell_type": "code",
   "execution_count": 90,
   "metadata": {},
   "outputs": [
    {
     "data": {
      "text/html": [
       "<div>\n",
       "<style scoped>\n",
       "    .dataframe tbody tr th:only-of-type {\n",
       "        vertical-align: middle;\n",
       "    }\n",
       "\n",
       "    .dataframe tbody tr th {\n",
       "        vertical-align: top;\n",
       "    }\n",
       "\n",
       "    .dataframe thead th {\n",
       "        text-align: right;\n",
       "    }\n",
       "</style>\n",
       "<table border=\"1\" class=\"dataframe\">\n",
       "  <thead>\n",
       "    <tr style=\"text-align: right;\">\n",
       "      <th></th>\n",
       "      <th>X1RACE</th>\n",
       "      <th>grad_GED</th>\n",
       "    </tr>\n",
       "  </thead>\n",
       "  <tbody>\n",
       "    <tr>\n",
       "      <td>0</td>\n",
       "      <td>8</td>\n",
       "      <td>True</td>\n",
       "    </tr>\n",
       "    <tr>\n",
       "      <td>1</td>\n",
       "      <td>8</td>\n",
       "      <td>True</td>\n",
       "    </tr>\n",
       "    <tr>\n",
       "      <td>2</td>\n",
       "      <td>3</td>\n",
       "      <td>True</td>\n",
       "    </tr>\n",
       "    <tr>\n",
       "      <td>3</td>\n",
       "      <td>8</td>\n",
       "      <td>True</td>\n",
       "    </tr>\n",
       "    <tr>\n",
       "      <td>4</td>\n",
       "      <td>8</td>\n",
       "      <td>True</td>\n",
       "    </tr>\n",
       "  </tbody>\n",
       "</table>\n",
       "</div>"
      ],
      "text/plain": [
       "   X1RACE  grad_GED\n",
       "0       8      True\n",
       "1       8      True\n",
       "2       3      True\n",
       "3       8      True\n",
       "4       8      True"
      ]
     },
     "execution_count": 90,
     "metadata": {},
     "output_type": "execute_result"
    }
   ],
   "source": [
    "df_grad_race.head()"
   ]
  },
  {
   "cell_type": "code",
   "execution_count": 91,
   "metadata": {},
   "outputs": [
    {
     "data": {
      "text/html": [
       "<div>\n",
       "<style scoped>\n",
       "    .dataframe tbody tr th:only-of-type {\n",
       "        vertical-align: middle;\n",
       "    }\n",
       "\n",
       "    .dataframe tbody tr th {\n",
       "        vertical-align: top;\n",
       "    }\n",
       "\n",
       "    .dataframe thead th {\n",
       "        text-align: right;\n",
       "    }\n",
       "</style>\n",
       "<table border=\"1\" class=\"dataframe\">\n",
       "  <thead>\n",
       "    <tr style=\"text-align: right;\">\n",
       "      <th></th>\n",
       "      <th>index</th>\n",
       "      <th>grad_GED</th>\n",
       "    </tr>\n",
       "  </thead>\n",
       "  <tbody>\n",
       "    <tr>\n",
       "      <td>0</td>\n",
       "      <td>True</td>\n",
       "      <td>0.963588</td>\n",
       "    </tr>\n",
       "    <tr>\n",
       "      <td>1</td>\n",
       "      <td>False</td>\n",
       "      <td>0.036412</td>\n",
       "    </tr>\n",
       "  </tbody>\n",
       "</table>\n",
       "</div>"
      ],
      "text/plain": [
       "   index  grad_GED\n",
       "0   True  0.963588\n",
       "1  False  0.036412"
      ]
     },
     "execution_count": 91,
     "metadata": {},
     "output_type": "execute_result"
    }
   ],
   "source": [
    "df_grad_race['grad_GED'].value_counts(normalize=True).reset_index()"
   ]
  },
  {
   "cell_type": "code",
   "execution_count": 92,
   "metadata": {},
   "outputs": [],
   "source": [
    "# change numerical race data to descriptive\n",
    "\n",
    "def race_map(x):\n",
    "    d={1:'Amer. Indian/Alaska Native',\n",
    "       2:'Asian',\n",
    "       3:'Black/African-American',     \n",
    "       4:'Hispanic, no race specified',          \n",
    "       5:'Hispanic, race specified',                   \n",
    "       6:'More than one race',         \n",
    "       7:'Native Hawaiian/Pacific Islander',\n",
    "       8:'White',     \n",
    "      -9:'Missing'}\n",
    "    y = d[x]\n",
    "    return y"
   ]
  },
  {
   "cell_type": "code",
   "execution_count": 93,
   "metadata": {},
   "outputs": [],
   "source": [
    "df_grad_race['Race'] = df_grad_race['X1RACE'].apply(race_map)\n",
    "df_grad_race = df_grad_race.drop('X1RACE', axis=1)"
   ]
  },
  {
   "cell_type": "code",
   "execution_count": 101,
   "metadata": {},
   "outputs": [
    {
     "data": {
      "text/plain": [
       "Race                              grad_GED\n",
       "Amer. Indian/Alaska Native        True        0.862595\n",
       "                                  False       0.137405\n",
       "Asian                             True        0.988610\n",
       "                                  False       0.011390\n",
       "Black/African-American            True        0.952473\n",
       "                                  False       0.047527\n",
       "Hispanic, no race specified       True        0.906250\n",
       "                                  False       0.093750\n",
       "Hispanic, race specified          True        0.956676\n",
       "                                  False       0.043324\n",
       "Missing                           True        0.960089\n",
       "                                  False       0.039911\n",
       "More than one race                True        0.960214\n",
       "                                  False       0.039786\n",
       "Native Hawaiian/Pacific Islander  True        0.952381\n",
       "                                  False       0.047619\n",
       "White                             True        0.967231\n",
       "                                  False       0.032769\n",
       "Name: grad_GED, dtype: float64"
      ]
     },
     "execution_count": 101,
     "metadata": {},
     "output_type": "execute_result"
    }
   ],
   "source": [
    "# calculate proportion of each race grad/GED\n",
    "\n",
    "df_gr = df_grad_race.groupby('Race')['grad_GED'].value_counts(normalize=True)\n",
    "df_gr"
   ]
  },
  {
   "cell_type": "code",
   "execution_count": null,
   "metadata": {},
   "outputs": [],
   "source": [
    "# change the decimals to percents\n",
    "\n",
    "df_gr = df_gr[:,True]*100"
   ]
  },
  {
   "cell_type": "code",
   "execution_count": 110,
   "metadata": {},
   "outputs": [
    {
     "data": {
      "image/png": "[encoded data removed]",
      "text/plain": [
       "<Figure size 900x450 with 1 Axes>"
      ]
     },
     "metadata": {
      "needs_background": "light"
     },
     "output_type": "display_data"
    }
   ],
   "source": [
    "# plot percent of each race grad/GED\n",
    "\n",
    "ax = df_gr.plot(kind='bar', figsize=(6,3), color=\"indigo\", fontsize=10)\n",
    "ax.set_alpha(0.8)\n",
    "ax.set_title(\"Percent of Students Graduating by Race\", fontsize=14)\n",
    "ax.set_ylabel(\"Percent Graduated/GED\", fontsize=10)\n",
    "plt.setp(ax.get_xticklabels(), rotation=45, ha='right')\n",
    "bottom, top = plt.ylim()\n",
    "plt.ylim(bottom=80)\n",
    "plt.show();"
   ]
  },
  {
   "cell_type": "markdown",
   "metadata": {},
   "source": [
    "### parent education and graduation rate"
   ]
  },
  {
   "cell_type": "code",
   "execution_count": 115,
   "metadata": {},
   "outputs": [
    {
     "data": {
      "text/html": [
       "<div>\n",
       "<style scoped>\n",
       "    .dataframe tbody tr th:only-of-type {\n",
       "        vertical-align: middle;\n",
       "    }\n",
       "\n",
       "    .dataframe tbody tr th {\n",
       "        vertical-align: top;\n",
       "    }\n",
       "\n",
       "    .dataframe thead th {\n",
       "        text-align: right;\n",
       "    }\n",
       "</style>\n",
       "<table border=\"1\" class=\"dataframe\">\n",
       "  <thead>\n",
       "    <tr style=\"text-align: right;\">\n",
       "      <th></th>\n",
       "      <th>X1PAR1EDU</th>\n",
       "      <th>X1PAR2EDU</th>\n",
       "      <th>grad_GED</th>\n",
       "    </tr>\n",
       "  </thead>\n",
       "  <tbody>\n",
       "    <tr>\n",
       "      <td>0</td>\n",
       "      <td>5</td>\n",
       "      <td>5</td>\n",
       "      <td>True</td>\n",
       "    </tr>\n",
       "    <tr>\n",
       "      <td>1</td>\n",
       "      <td>3</td>\n",
       "      <td>2</td>\n",
       "      <td>True</td>\n",
       "    </tr>\n",
       "    <tr>\n",
       "      <td>2</td>\n",
       "      <td>7</td>\n",
       "      <td>-7</td>\n",
       "      <td>True</td>\n",
       "    </tr>\n",
       "    <tr>\n",
       "      <td>3</td>\n",
       "      <td>4</td>\n",
       "      <td>-7</td>\n",
       "      <td>True</td>\n",
       "    </tr>\n",
       "    <tr>\n",
       "      <td>4</td>\n",
       "      <td>4</td>\n",
       "      <td>-7</td>\n",
       "      <td>True</td>\n",
       "    </tr>\n",
       "  </tbody>\n",
       "</table>\n",
       "</div>"
      ],
      "text/plain": [
       "   X1PAR1EDU  X1PAR2EDU  grad_GED\n",
       "0          5          5      True\n",
       "1          3          2      True\n",
       "2          7         -7      True\n",
       "3          4         -7      True\n",
       "4          4         -7      True"
      ]
     },
     "execution_count": 115,
     "metadata": {},
     "output_type": "execute_result"
    },
    {
     "data": {
      "text/plain": [
       "(20680, 3)"
      ]
     },
     "execution_count": 115,
     "metadata": {},
     "output_type": "execute_result"
    }
   ],
   "source": [
    "# drop data where grad/GED/drop is unknown\n",
    "\n",
    "df_grad_pared = df[df['X3HSCOMPSTAT'].isin([1,2,3])][pared+['grad_GED']]\n",
    "df_grad_pared.head()\n",
    "df_grad_pared.shape"
   ]
  },
  {
   "cell_type": "code",
   "execution_count": 118,
   "metadata": {},
   "outputs": [
    {
     "data": {
      "text/plain": [
       "(15340, 2)"
      ]
     },
     "execution_count": 118,
     "metadata": {},
     "output_type": "execute_result"
    }
   ],
   "source": [
    "# focus on parent 1's education and drop unkown education level data\n",
    "\n",
    "df_grad_pared = df_grad_pared[df_grad_pared['X1PAR1EDU']>0][['X1PAR1EDU','grad_GED']]\n",
    "df_grad_pared.shape"
   ]
  },
  {
   "cell_type": "code",
   "execution_count": 121,
   "metadata": {},
   "outputs": [],
   "source": [
    "# change numerical education data to descriptive\n",
    "\n",
    "def edu(x):\n",
    "    d={1:'Less than high school',\n",
    "       2:'High school diploma or GED',\n",
    "       3:'Associate\\'s degree',\n",
    "       4:'Bachelor\\'s degree',\n",
    "       5:'Master\\'s degree',\n",
    "       7:'Ph.D/M.D/Law/other high lvl prof degree'}\n",
    "    y = d[x]\n",
    "    return y"
   ]
  },
  {
   "cell_type": "code",
   "execution_count": 122,
   "metadata": {},
   "outputs": [],
   "source": [
    "df_grad_pared['Parent\\'s Education'] = df_grad_pared['X1PAR1EDU'].apply(edu)\n",
    "df_grad_pared = df_grad_pared.drop('X1PAR1EDU',axis=1)"
   ]
  },
  {
   "cell_type": "code",
   "execution_count": 123,
   "metadata": {},
   "outputs": [
    {
     "data": {
      "text/html": [
       "<div>\n",
       "<style scoped>\n",
       "    .dataframe tbody tr th:only-of-type {\n",
       "        vertical-align: middle;\n",
       "    }\n",
       "\n",
       "    .dataframe tbody tr th {\n",
       "        vertical-align: top;\n",
       "    }\n",
       "\n",
       "    .dataframe thead th {\n",
       "        text-align: right;\n",
       "    }\n",
       "</style>\n",
       "<table border=\"1\" class=\"dataframe\">\n",
       "  <thead>\n",
       "    <tr style=\"text-align: right;\">\n",
       "      <th></th>\n",
       "      <th>grad_GED</th>\n",
       "      <th>Parent's Education</th>\n",
       "    </tr>\n",
       "  </thead>\n",
       "  <tbody>\n",
       "    <tr>\n",
       "      <td>0</td>\n",
       "      <td>True</td>\n",
       "      <td>Master's degree</td>\n",
       "    </tr>\n",
       "    <tr>\n",
       "      <td>1</td>\n",
       "      <td>True</td>\n",
       "      <td>Associate's degree</td>\n",
       "    </tr>\n",
       "    <tr>\n",
       "      <td>2</td>\n",
       "      <td>True</td>\n",
       "      <td>Ph.D/M.D/Law/other high lvl prof degree</td>\n",
       "    </tr>\n",
       "    <tr>\n",
       "      <td>3</td>\n",
       "      <td>True</td>\n",
       "      <td>Bachelor's degree</td>\n",
       "    </tr>\n",
       "    <tr>\n",
       "      <td>4</td>\n",
       "      <td>True</td>\n",
       "      <td>Bachelor's degree</td>\n",
       "    </tr>\n",
       "  </tbody>\n",
       "</table>\n",
       "</div>"
      ],
      "text/plain": [
       "   grad_GED                       Parent's Education\n",
       "0      True                          Master's degree\n",
       "1      True                       Associate's degree\n",
       "2      True  Ph.D/M.D/Law/other high lvl prof degree\n",
       "3      True                        Bachelor's degree\n",
       "4      True                        Bachelor's degree"
      ]
     },
     "execution_count": 123,
     "metadata": {},
     "output_type": "execute_result"
    }
   ],
   "source": [
    "df_grad_pared.head()"
   ]
  },
  {
   "cell_type": "code",
   "execution_count": 124,
   "metadata": {},
   "outputs": [
    {
     "data": {
      "text/plain": [
       "Parent's Education                       grad_GED\n",
       "Associate's degree                       True        0.979325\n",
       "                                         False       0.020675\n",
       "Bachelor's degree                        True        0.991890\n",
       "                                         False       0.008110\n",
       "High school diploma or GED               True        0.958134\n",
       "                                         False       0.041866\n",
       "Less than high school                    True        0.908503\n",
       "                                         False       0.091497\n",
       "Master's degree                          True        0.994895\n",
       "                                         False       0.005105\n",
       "Ph.D/M.D/Law/other high lvl prof degree  True        0.992793\n",
       "                                         False       0.007207\n",
       "Name: grad_GED, dtype: float64"
      ]
     },
     "execution_count": 124,
     "metadata": {},
     "output_type": "execute_result"
    }
   ],
   "source": [
    "# proportion of each parent education category graduating/getting GED\n",
    "\n",
    "df_gpe = df_grad_pared.groupby('Parent\\'s Education')['grad_GED'].value_counts(normalize=True)\n",
    "df_gpe"
   ]
  },
  {
   "cell_type": "code",
   "execution_count": 125,
   "metadata": {},
   "outputs": [],
   "source": [
    "df_gpe = df_gpe[:,True]*100"
   ]
  },
  {
   "cell_type": "code",
   "execution_count": 131,
   "metadata": {},
   "outputs": [],
   "source": [
    "sortd_in = ['Less than high school','High school diploma or GED',\n",
    "           'Associate\\'s degree','Bachelor\\'s degree',\n",
    "           'Master\\'s degree','Ph.D/M.D/Law/other high lvl prof degree']"
   ]
  },
  {
   "cell_type": "code",
   "execution_count": 132,
   "metadata": {},
   "outputs": [
    {
     "data": {
      "image/png": "[encoded data removed]",
      "text/plain": [
       "<Figure size 900x450 with 1 Axes>"
      ]
     },
     "metadata": {
      "needs_background": "light"
     },
     "output_type": "display_data"
    }
   ],
   "source": [
    "# plot percent of each parent edu level graduating/GED\n",
    "\n",
    "ax = df_gpe[sortd_in].plot(kind='bar', figsize=(6,3), color=\"indigo\", fontsize=10)\n",
    "ax.set_alpha(0.8)\n",
    "ax.set_title(\"Percent of Students Graduating by Parent Education Level\", fontsize=14)\n",
    "ax.set_ylabel(\"Percent Graduated/GED\", fontsize=10)\n",
    "plt.setp(ax.get_xticklabels(), rotation=45, ha='right')\n",
    "bottom, top = plt.ylim()\n",
    "plt.ylim(bottom=90, top=100)\n",
    "plt.show();"
   ]
  },
  {
   "cell_type": "markdown",
   "metadata": {},
   "source": [
    "# Save Data with Engineered Features"
   ]
  },
  {
   "cell_type": "code",
   "execution_count": 133,
   "metadata": {},
   "outputs": [],
   "source": [
    "out_path = './processed/hsls_16_student_engineered.csv'\n",
    "df.to_csv(out_path)"
   ]
  },
  {
   "cell_type": "code",
   "execution_count": null,
   "metadata": {},
   "outputs": [],
   "source": []
  }
 ],
 "metadata": {
  "kernelspec": {
   "display_name": "Python 3",
   "language": "python",
   "name": "python3"
  },
  "language_info": {
   "codemirror_mode": {
    "name": "ipython",
    "version": 3
   },
   "file_extension": ".py",
   "mimetype": "text/x-python",
   "name": "python",
   "nbconvert_exporter": "python",
   "pygments_lexer": "ipython3",
   "version": "3.7.4"
  }
 },
 "nbformat": 4,
 "nbformat_minor": 2
}
